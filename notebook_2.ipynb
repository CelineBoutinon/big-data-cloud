{
 "cells": [
  {
   "cell_type": "markdown",
   "id": "74e1bc1d-32f2-496d-811b-46a305024fcc",
   "metadata": {},
   "source": [
    "# 1 - Config"
   ]
  },
  {
   "cell_type": "markdown",
   "id": "cecb27f0-2676-4fd4-ba86-65836ece1023",
   "metadata": {},
   "source": [
    "## 1.1 - Launch Spark session"
   ]
  },
  {
   "cell_type": "code",
   "execution_count": 1,
   "id": "b57d64f2-9752-4611-b079-db3f6568e6e1",
   "metadata": {
    "execution": {
     "iopub.execute_input": "2024-08-24T17:48:54.330942Z",
     "iopub.status.busy": "2024-08-24T17:48:54.330618Z",
     "iopub.status.idle": "2024-08-24T17:49:27.360095Z",
     "shell.execute_reply": "2024-08-24T17:49:27.359485Z",
     "shell.execute_reply.started": "2024-08-24T17:48:54.330904Z"
    },
    "tags": []
   },
   "outputs": [
    {
     "data": {
      "application/vnd.jupyter.widget-view+json": {
       "model_id": "39bdf39e635f4915a74c029be29e2532",
       "version_major": 2,
       "version_minor": 0
      },
      "text/plain": [
       "VBox()"
      ]
     },
     "metadata": {},
     "output_type": "display_data"
    },
    {
     "name": "stdout",
     "output_type": "stream",
     "text": [
      "Starting Spark application\n"
     ]
    },
    {
     "data": {
      "text/html": [
       "<table>\n",
       "<tbody><tr><th>ID</th><th>YARN Application ID</th><th>Kind</th><th>State</th><th>Spark UI</th><th>Driver log</th><th>User</th><th>Current session?</th></tr><tr><td>0</td><td>application_1724521548836_0001</td><td>pyspark</td><td>idle</td><td><a target=\"_blank\" href=\"http://ip-172-31-21-238.eu-west-3.compute.internal:20888/proxy/application_1724521548836_0001/\" class=\"emr-proxy-link j-1SK6LA4UB9WO0 application_1724521548836_0001\" emr-resource=\"j-1SK6LA4UB9WO0\n",
       "\" application-id=\"application_1724521548836_0001\">Link</a></td><td><a target=\"_blank\" href=\"http://ip-172-31-16-42.eu-west-3.compute.internal:8042/node/containerlogs/container_1724521548836_0001_01_000001/livy\">Link</a></td><td>None</td><td>✔</td></tr></tbody></table>"
      ],
      "text/plain": [
       "<IPython.core.display.HTML object>"
      ]
     },
     "metadata": {},
     "output_type": "display_data"
    },
    {
     "data": {
      "application/vnd.jupyter.widget-view+json": {
       "model_id": "",
       "version_major": 2,
       "version_minor": 0
      },
      "text/plain": [
       "FloatProgress(value=0.0, bar_style='info', description='Progress:', layout=Layout(height='25px', width='50%'),…"
      ]
     },
     "metadata": {},
     "output_type": "display_data"
    },
    {
     "name": "stdout",
     "output_type": "stream",
     "text": [
      "SparkSession available as 'spark'.\n"
     ]
    },
    {
     "data": {
      "application/vnd.jupyter.widget-view+json": {
       "model_id": "",
       "version_major": 2,
       "version_minor": 0
      },
      "text/plain": [
       "FloatProgress(value=0.0, bar_style='info', description='Progress:', layout=Layout(height='25px', width='50%'),…"
      ]
     },
     "metadata": {},
     "output_type": "display_data"
    }
   ],
   "source": [
    "# run this cell as is to launch Spark session"
   ]
  },
  {
   "cell_type": "code",
   "execution_count": 2,
   "id": "eaaa29cd-809e-468c-83dd-c3286276360d",
   "metadata": {
    "execution": {
     "iopub.execute_input": "2024-08-24T17:49:30.211956Z",
     "iopub.status.busy": "2024-08-24T17:49:30.211708Z",
     "iopub.status.idle": "2024-08-24T17:49:30.296680Z",
     "shell.execute_reply": "2024-08-24T17:49:30.295922Z",
     "shell.execute_reply.started": "2024-08-24T17:49:30.211928Z"
    },
    "tags": []
   },
   "outputs": [
    {
     "data": {
      "application/vnd.jupyter.widget-view+json": {
       "model_id": "1e6990930b2049d8871994716f4c5ce6",
       "version_major": 2,
       "version_minor": 0
      },
      "text/plain": [
       "VBox()"
      ]
     },
     "metadata": {},
     "output_type": "display_data"
    },
    {
     "data": {
      "application/vnd.jupyter.widget-view+json": {
       "model_id": "",
       "version_major": 2,
       "version_minor": 0
      },
      "text/plain": [
       "FloatProgress(value=0.0, bar_style='info', description='Progress:', layout=Layout(height='25px', width='50%'),…"
      ]
     },
     "metadata": {},
     "output_type": "display_data"
    }
   ],
   "source": [
    "# get info on running Spark session\n",
    "# %%info"
   ]
  },
  {
   "cell_type": "code",
   "execution_count": 3,
   "id": "55b3bad4-e8d8-48a2-bf83-5be5b2275fad",
   "metadata": {
    "execution": {
     "iopub.execute_input": "2024-08-24T17:49:30.435033Z",
     "iopub.status.busy": "2024-08-24T17:49:30.434685Z",
     "iopub.status.idle": "2024-08-24T17:49:30.523300Z",
     "shell.execute_reply": "2024-08-24T17:49:30.522544Z",
     "shell.execute_reply.started": "2024-08-24T17:49:30.434989Z"
    },
    "tags": []
   },
   "outputs": [
    {
     "data": {
      "application/vnd.jupyter.widget-view+json": {
       "model_id": "7f4b6d30e81647d1a2a6b344fdf39177",
       "version_major": 2,
       "version_minor": 0
      },
      "text/plain": [
       "VBox()"
      ]
     },
     "metadata": {},
     "output_type": "display_data"
    },
    {
     "data": {
      "application/vnd.jupyter.widget-view+json": {
       "model_id": "",
       "version_major": 2,
       "version_minor": 0
      },
      "text/plain": [
       "FloatProgress(value=0.0, bar_style='info', description='Progress:', layout=Layout(height='25px', width='50%'),…"
      ]
     },
     "metadata": {},
     "output_type": "display_data"
    }
   ],
   "source": [
    "# create entry point for Spark functionality (cluster connection)\n",
    "# see https://spark.apache.org/docs/1.6.1/api/java/org/apache/spark/SparkContext.html\n",
    "sc = spark.sparkContext"
   ]
  },
  {
   "cell_type": "markdown",
   "id": "a47d4cd7-dc50-4b28-99f9-2b7cdc167cf7",
   "metadata": {},
   "source": [
    "## 1.2 - Check installs & import packages"
   ]
  },
  {
   "cell_type": "code",
   "execution_count": 4,
   "id": "f9eab09e-7163-4425-93be-83fb4b124744",
   "metadata": {
    "execution": {
     "iopub.execute_input": "2024-08-24T17:49:31.278004Z",
     "iopub.status.busy": "2024-08-24T17:49:31.277773Z",
     "iopub.status.idle": "2024-08-24T17:49:32.561308Z",
     "shell.execute_reply": "2024-08-24T17:49:32.560594Z",
     "shell.execute_reply.started": "2024-08-24T17:49:31.277969Z"
    },
    "tags": []
   },
   "outputs": [
    {
     "data": {
      "application/vnd.jupyter.widget-view+json": {
       "model_id": "12bed2db2a254605ba6d423e6e3a83a4",
       "version_major": 2,
       "version_minor": 0
      },
      "text/plain": [
       "VBox()"
      ]
     },
     "metadata": {},
     "output_type": "display_data"
    },
    {
     "data": {
      "application/vnd.jupyter.widget-view+json": {
       "model_id": "",
       "version_major": 2,
       "version_minor": 0
      },
      "text/plain": [
       "FloatProgress(value=0.0, bar_style='info', description='Progress:', layout=Layout(height='25px', width='50%'),…"
      ]
     },
     "metadata": {},
     "output_type": "display_data"
    },
    {
     "name": "stdout",
     "output_type": "stream",
     "text": [
      "Package                      Version\n",
      "---------------------------- ------------\n",
      "absl-py                      2.1.0\n",
      "aiobotocore                  2.13.3\n",
      "aiohappyeyeballs             2.4.0\n",
      "aiohttp                      3.10.5\n",
      "aioitertools                 0.11.0\n",
      "aiosignal                    1.3.1\n",
      "appdirs                      1.4.4\n",
      "astunparse                   1.6.3\n",
      "async-timeout                4.0.3\n",
      "attrs                        20.3.0\n",
      "aws-cfn-bootstrap            2.0\n",
      "aws-hadoop                   1.0.dev2\n",
      "awscli                       2.15.30\n",
      "awscrt                       0.19.19\n",
      "Babel                        2.9.1\n",
      "bcrypt                       4.2.0\n",
      "beautifulsoup4               4.9.3\n",
      "boto                         2.49.0\n",
      "botocore                     1.34.162\n",
      "cffi                         1.14.5\n",
      "chardet                      4.0.0\n",
      "chevron                      0.13.1\n",
      "click                        8.1.7\n",
      "cloud-init                   22.2.2\n",
      "colorama                     0.4.4\n",
      "configobj                    5.0.6\n",
      "coverage                     7.6.1\n",
      "cryptography                 36.0.1\n",
      "cycler                       0.12.1\n",
      "dbus-python                  1.2.18\n",
      "decorator                    5.1.1\n",
      "Deprecated                   1.2.14\n",
      "distlib                      0.3.1\n",
      "distro                       1.5.0\n",
      "docutils                     0.16\n",
      "ec2-hibinit-agent            1.0.8\n",
      "fabric                       3.2.2\n",
      "filelock                     3.0.12\n",
      "flatbuffers                  24.3.25\n",
      "fonttools                    4.53.1\n",
      "frozenlist                   1.4.1\n",
      "fsspec                       2024.6.1\n",
      "gast                         0.6.0\n",
      "gitdb                        4.0.11\n",
      "GitPython                    0.3.6\n",
      "google-pasta                 0.2.0\n",
      "gpg                          1.15.1\n",
      "grpcio                       1.66.0\n",
      "h5py                         3.11.0\n",
      "idna                         2.10\n",
      "importlib_metadata           8.4.0\n",
      "invoke                       2.2.0\n",
      "Jinja2                       2.11.3\n",
      "jmespath                     1.0.1\n",
      "joblib                       1.3.2\n",
      "jsonpatch                    1.21\n",
      "jsonpointer                  2.0\n",
      "jsonschema                   3.2.0\n",
      "keras                        3.5.0\n",
      "kiwisolver                   1.4.5\n",
      "libclang                     18.1.1\n",
      "libcomps                     0.1.20\n",
      "lockfile                     0.12.2\n",
      "lxml                         4.9.3\n",
      "Markdown                     3.7\n",
      "markdown-it-py               3.0.0\n",
      "MarkupSafe                   2.1.5\n",
      "matplotlib                   3.5.2\n",
      "mdurl                        0.1.2\n",
      "ml-dtypes                    0.4.0\n",
      "multidict                    6.0.5\n",
      "mysqlclient                  1.4.2\n",
      "namex                        0.0.8\n",
      "netifaces                    0.10.6\n",
      "nltk                         3.8.1\n",
      "nose                         1.3.4\n",
      "numpy                        1.26.4\n",
      "oauthlib                     3.0.2\n",
      "opt-einsum                   3.3.0\n",
      "optree                       0.12.1\n",
      "packaging                    24.1\n",
      "pandas                       2.2.2\n",
      "paramiko                     3.4.1\n",
      "pep8                         1.7.1\n",
      "pillow                       10.4.0\n",
      "pip                          21.3.1\n",
      "ply                          3.11\n",
      "prettytable                  0.7.2\n",
      "prompt-toolkit               3.0.24\n",
      "protobuf                     4.25.4\n",
      "py-dateutil                  2.2\n",
      "pyarrow                      17.0.0\n",
      "pycparser                    2.20\n",
      "Pygments                     2.18.0\n",
      "PyNaCl                       1.5.0\n",
      "pyparsing                    3.1.2\n",
      "pypi-publisher               0.0.4\n",
      "pyrsistent                   0.17.3\n",
      "pyserial                     3.4\n",
      "PySocks                      1.7.1\n",
      "python-daemon                2.3.0\n",
      "python-dateutil              2.9.0.post0\n",
      "python-terraform             0.10.1\n",
      "pytz                         2023.3.post1\n",
      "PyYAML                       5.4.1\n",
      "regex                        2021.11.10\n",
      "release-notification         1.2\n",
      "requests                     2.25.1\n",
      "rich                         13.7.1\n",
      "rpm                          4.16.1.3\n",
      "ruamel.yaml                  0.16.6\n",
      "ruamel.yaml.clib             0.1.2\n",
      "s3fs                         2024.6.1\n",
      "selinux                      3.4\n",
      "sepolicy                     3.4\n",
      "setools                      4.4.1\n",
      "setuptools                   59.6.0\n",
      "six                          1.13.0\n",
      "smmap                        5.0.1\n",
      "soupsieve                    1.9.5\n",
      "support-info                 1.0\n",
      "systemd-python               235\n",
      "tensorboard                  2.17.1\n",
      "tensorboard-data-server      0.7.2\n",
      "tensorflow                   2.17.0\n",
      "tensorflow-io-gcs-filesystem 0.37.1\n",
      "termcolor                    2.4.0\n",
      "tqdm                         4.66.1\n",
      "typing_extensions            4.12.2\n",
      "tzdata                       2024.1\n",
      "urllib3                      1.25.10\n",
      "virtualenv                   20.4.0\n",
      "wcwidth                      0.2.5\n",
      "Werkzeug                     3.0.4\n",
      "wheel                        0.37.1\n",
      "windmill                     1.6\n",
      "wrapt                        1.16.0\n",
      "yarl                         1.9.4\n",
      "zipp                         3.20.0\n",
      "\n",
      "WARNING: The directory '/home/.cache/pip' or its parent directory is not owned or is not writable by the current user. The cache has been disabled. Check the permissions and owner of that directory. If executing pip with sudo, you should use sudo's -H flag."
     ]
    }
   ],
   "source": [
    "# list all the packages installed in the spark session to confirm correct execution of cluster bootstrap\n",
    "sc.list_packages() "
   ]
  },
  {
   "cell_type": "markdown",
   "id": "eb99a632-78f1-49f9-8c7e-91f9d0f8f5a7",
   "metadata": {},
   "source": [
    "**pandas 2.2.2, tensorflow 2.17.0, pillow 10.4.0, pyarrow 17.0.0, aws-hadoop 1.0.dev2, fsspec 2024.6.1, s3fs 2024.6.1 and matplotlib 3.5.2 installed as per bootstrap**"
   ]
  },
  {
   "cell_type": "code",
   "execution_count": 5,
   "id": "8af7a34b-835e-4000-9b8c-481fe535bbf2",
   "metadata": {
    "execution": {
     "iopub.execute_input": "2024-08-24T17:49:32.562619Z",
     "iopub.status.busy": "2024-08-24T17:49:32.562440Z",
     "iopub.status.idle": "2024-08-24T17:49:37.885433Z",
     "shell.execute_reply": "2024-08-24T17:49:37.884741Z",
     "shell.execute_reply.started": "2024-08-24T17:49:32.562596Z"
    },
    "tags": []
   },
   "outputs": [
    {
     "data": {
      "application/vnd.jupyter.widget-view+json": {
       "model_id": "3efb77fef34e4814a43c0f5fb8d32bc4",
       "version_major": 2,
       "version_minor": 0
      },
      "text/plain": [
       "VBox()"
      ]
     },
     "metadata": {},
     "output_type": "display_data"
    },
    {
     "data": {
      "application/vnd.jupyter.widget-view+json": {
       "model_id": "",
       "version_major": 2,
       "version_minor": 0
      },
      "text/plain": [
       "FloatProgress(value=0.0, bar_style='info', description='Progress:', layout=Layout(height='25px', width='50%'),…"
      ]
     },
     "metadata": {},
     "output_type": "display_data"
    }
   ],
   "source": [
    "# import libraries and functions\n",
    "\n",
    "import pandas as pd\n",
    "from PIL import Image\n",
    "import numpy as np\n",
    "import io\n",
    "import os\n",
    "import sys\n",
    "import tensorflow as tf\n",
    "from tensorflow.keras.applications.mobilenet_v2 import MobileNetV2, preprocess_input\n",
    "from tensorflow.keras.preprocessing.image import img_to_array\n",
    "from tensorflow.keras import Model\n",
    "from pyspark.sql.functions import col, pandas_udf, PandasUDFType, element_at, split\n",
    "from pyspark.sql import SparkSession\n",
    "import s3fs\n",
    "import fsspec\n",
    "import matplotlib.pyplot as plt"
   ]
  },
  {
   "cell_type": "markdown",
   "id": "cdcfe55f-150a-428c-bb19-03043eaf8265",
   "metadata": {},
   "source": [
    "## 1.3 - Define paths for images download & results upload"
   ]
  },
  {
   "cell_type": "code",
   "execution_count": 6,
   "id": "66ef52c7-fbb0-4601-9c39-943cab07301a",
   "metadata": {
    "execution": {
     "iopub.execute_input": "2024-08-24T17:49:37.886876Z",
     "iopub.status.busy": "2024-08-24T17:49:37.886700Z",
     "iopub.status.idle": "2024-08-24T17:49:37.946173Z",
     "shell.execute_reply": "2024-08-24T17:49:37.945469Z",
     "shell.execute_reply.started": "2024-08-24T17:49:37.886853Z"
    },
    "tags": []
   },
   "outputs": [
    {
     "data": {
      "application/vnd.jupyter.widget-view+json": {
       "model_id": "b84e2004c22440e2bcceaf1d608b24da",
       "version_major": 2,
       "version_minor": 0
      },
      "text/plain": [
       "VBox()"
      ]
     },
     "metadata": {},
     "output_type": "display_data"
    },
    {
     "data": {
      "application/vnd.jupyter.widget-view+json": {
       "model_id": "",
       "version_major": 2,
       "version_minor": 0
      },
      "text/plain": [
       "FloatProgress(value=0.0, bar_style='info', description='Progress:', layout=Layout(height='25px', width='50%'),…"
      ]
     },
     "metadata": {},
     "output_type": "display_data"
    },
    {
     "name": "stdout",
     "output_type": "stream",
     "text": [
      "PATH:        s3://ocds-p9-data\n",
      "PATH_Data:   s3://ocds-p9-data/Test1\n",
      "PATH_Results: s3://ocds-p9-data/Results_Cloud\n",
      "PATH_PCA: s3://ocds-p9-data/PCA_Results_Cloud\n",
      "PATH_PCA_CSV: s3://ocds-p9-data/PCA_Results_Cloud_csv"
     ]
    }
   ],
   "source": [
    "PATH = 's3://ocds-p9-data'\n",
    "PATH_Data = PATH+'/Test1'\n",
    "PATH_Results = PATH+'/Results_Cloud'\n",
    "PATH_PCA = PATH+'/PCA_Results_Cloud'\n",
    "PATH_PCA_CSV = PATH+'/PCA_Results_Cloud_csv'\n",
    "print('PATH:        '+\\\n",
    "      PATH\n",
    "      +'\\nPATH_Data:   '+\\\n",
    "      PATH_Data\n",
    "      +'\\nPATH_Results: '+\\\n",
    "      PATH_Results\n",
    "      +'\\nPATH_PCA: '+\\\n",
    "      PATH_PCA\n",
    "      +'\\nPATH_PCA_CSV: '+\\\n",
    "      PATH_PCA_CSV)"
   ]
  },
  {
   "cell_type": "markdown",
   "id": "fbb203b6-3160-497a-9f98-d0234b1c3cb1",
   "metadata": {},
   "source": [
    "# 2 - MobileNetV2 transfer learning"
   ]
  },
  {
   "cell_type": "markdown",
   "id": "a7f7887f-a45d-4543-ab68-87424465ed26",
   "metadata": {},
   "source": [
    "## 2.1 - Load images"
   ]
  },
  {
   "cell_type": "code",
   "execution_count": 7,
   "id": "f34206f5-9325-4f33-b90f-cf73b1d5c9ec",
   "metadata": {
    "execution": {
     "iopub.execute_input": "2024-08-24T17:49:37.947877Z",
     "iopub.status.busy": "2024-08-24T17:49:37.947694Z",
     "iopub.status.idle": "2024-08-24T17:49:41.236248Z",
     "shell.execute_reply": "2024-08-24T17:49:41.235612Z",
     "shell.execute_reply.started": "2024-08-24T17:49:37.947853Z"
    },
    "tags": []
   },
   "outputs": [
    {
     "data": {
      "application/vnd.jupyter.widget-view+json": {
       "model_id": "a36592a7ceee46a3b632b8b6fc1b524b",
       "version_major": 2,
       "version_minor": 0
      },
      "text/plain": [
       "VBox()"
      ]
     },
     "metadata": {},
     "output_type": "display_data"
    },
    {
     "data": {
      "application/vnd.jupyter.widget-view+json": {
       "model_id": "",
       "version_major": 2,
       "version_minor": 0
      },
      "text/plain": [
       "FloatProgress(value=0.0, bar_style='info', description='Progress:', layout=Layout(height='25px', width='50%'),…"
      ]
     },
     "metadata": {},
     "output_type": "display_data"
    }
   ],
   "source": [
    "images = spark.read.format(\"binaryFile\") \\\n",
    "  .option(\"pathGlobFilter\", \"*.jpg\") \\\n",
    "  .option(\"recursiveFileLookup\", \"true\") \\\n",
    "  .load(PATH_Data)"
   ]
  },
  {
   "cell_type": "code",
   "execution_count": 8,
   "id": "428d624f-b4b5-4330-93db-1cef412cb46a",
   "metadata": {
    "execution": {
     "iopub.execute_input": "2024-08-24T17:49:41.237379Z",
     "iopub.status.busy": "2024-08-24T17:49:41.237204Z",
     "iopub.status.idle": "2024-08-24T17:49:46.564481Z",
     "shell.execute_reply": "2024-08-24T17:49:46.563543Z",
     "shell.execute_reply.started": "2024-08-24T17:49:41.237355Z"
    },
    "tags": []
   },
   "outputs": [
    {
     "data": {
      "application/vnd.jupyter.widget-view+json": {
       "model_id": "548edf3bd27145b790c212a3c8db65a2",
       "version_major": 2,
       "version_minor": 0
      },
      "text/plain": [
       "VBox()"
      ]
     },
     "metadata": {},
     "output_type": "display_data"
    },
    {
     "data": {
      "application/vnd.jupyter.widget-view+json": {
       "model_id": "",
       "version_major": 2,
       "version_minor": 0
      },
      "text/plain": [
       "FloatProgress(value=0.0, bar_style='info', description='Progress:', layout=Layout(height='25px', width='50%'),…"
      ]
     },
     "metadata": {},
     "output_type": "display_data"
    },
    {
     "name": "stdout",
     "output_type": "stream",
     "text": [
      "root\n",
      " |-- path: string (nullable = true)\n",
      " |-- modificationTime: timestamp (nullable = true)\n",
      " |-- length: long (nullable = true)\n",
      " |-- content: binary (nullable = true)\n",
      " |-- label: string (nullable = true)\n",
      "\n",
      "None\n",
      "+----------------------------------------+-----+\n",
      "|path                                    |label|\n",
      "+----------------------------------------+-----+\n",
      "|s3://ocds-p9-data/Test1/lime/113_100.jpg|lime |\n",
      "|s3://ocds-p9-data/Test1/lime/114_100.jpg|lime |\n",
      "|s3://ocds-p9-data/Test1/lime/121_100.jpg|lime |\n",
      "|s3://ocds-p9-data/Test1/lime/120_100.jpg|lime |\n",
      "|s3://ocds-p9-data/Test1/lime/118_100.jpg|lime |\n",
      "+----------------------------------------+-----+\n",
      "only showing top 5 rows\n",
      "\n",
      "None"
     ]
    }
   ],
   "source": [
    "images = images.withColumn('label', element_at(split(images['path'], '/'),-2))\n",
    "print(images.printSchema())\n",
    "print(images.select('path','label').show(5,False))"
   ]
  },
  {
   "cell_type": "markdown",
   "id": "1ea3ab84-b692-4119-9436-ff50aeb2a580",
   "metadata": {},
   "source": [
    "## 2.2 - Instanciate model"
   ]
  },
  {
   "cell_type": "code",
   "execution_count": 9,
   "id": "90b17533-3635-481d-b98e-a5c5b4eac11a",
   "metadata": {
    "execution": {
     "iopub.execute_input": "2024-08-24T17:49:46.566069Z",
     "iopub.status.busy": "2024-08-24T17:49:46.565818Z",
     "iopub.status.idle": "2024-08-24T17:49:48.946046Z",
     "shell.execute_reply": "2024-08-24T17:49:48.945279Z",
     "shell.execute_reply.started": "2024-08-24T17:49:46.566033Z"
    },
    "tags": []
   },
   "outputs": [
    {
     "data": {
      "application/vnd.jupyter.widget-view+json": {
       "model_id": "07a258b2eaf948e8810a10b744bb3c1f",
       "version_major": 2,
       "version_minor": 0
      },
      "text/plain": [
       "VBox()"
      ]
     },
     "metadata": {},
     "output_type": "display_data"
    },
    {
     "data": {
      "application/vnd.jupyter.widget-view+json": {
       "model_id": "",
       "version_major": 2,
       "version_minor": 0
      },
      "text/plain": [
       "FloatProgress(value=0.0, bar_style='info', description='Progress:', layout=Layout(height='25px', width='50%'),…"
      ]
     },
     "metadata": {},
     "output_type": "display_data"
    },
    {
     "name": "stdout",
     "output_type": "stream",
     "text": [
      "Downloading data from https://storage.googleapis.com/tensorflow/keras-applications/mobilenet_v2/mobilenet_v2_weights_tf_dim_ordering_tf_kernels_1.0_224.h5\n",
      "\u001b[1m14536120/14536120\u001b[0m \u001b[32m━━━━━━━━━━━━━━━━━━━━\u001b[0m\u001b[37m\u001b[0m \u001b[1m1s\u001b[0m 0us/step\n",
      "Model: \"functional\"\n",
      "┏━━━━━━━━━━━━━━━━━━━━━┳━━━━━━━━━━━━━━━━━━━┳━━━━━━━━━━━━┳━━━━━━━━━━━━━━━━━━━┓\n",
      "┃ Layer (type)        ┃ Output Shape      ┃    Param # ┃ Connected to      ┃\n",
      "┡━━━━━━━━━━━━━━━━━━━━━╇━━━━━━━━━━━━━━━━━━━╇━━━━━━━━━━━━╇━━━━━━━━━━━━━━━━━━━┩\n",
      "│ input_layer         │ (None, 224, 224,  │          0 │ -                 │\n",
      "│ (InputLayer)        │ 3)                │            │                   │\n",
      "├─────────────────────┼───────────────────┼────────────┼───────────────────┤\n",
      "│ Conv1 (Conv2D)      │ (None, 112, 112,  │        864 │ input_layer[0][0] │\n",
      "│                     │ 32)               │            │                   │\n",
      "├─────────────────────┼───────────────────┼────────────┼───────────────────┤\n",
      "│ bn_Conv1            │ (None, 112, 112,  │        128 │ Conv1[0][0]       │\n",
      "│ (BatchNormalizatio… │ 32)               │            │                   │\n",
      "├─────────────────────┼───────────────────┼────────────┼───────────────────┤\n",
      "│ Conv1_relu (ReLU)   │ (None, 112, 112,  │          0 │ bn_Conv1[0][0]    │\n",
      "│                     │ 32)               │            │                   │\n",
      "├─────────────────────┼───────────────────┼────────────┼───────────────────┤\n",
      "│ expanded_conv_dept… │ (None, 112, 112,  │        288 │ Conv1_relu[0][0]  │\n",
      "│ (DepthwiseConv2D)   │ 32)               │            │                   │\n",
      "├─────────────────────┼───────────────────┼────────────┼───────────────────┤\n",
      "│ expanded_conv_dept… │ (None, 112, 112,  │        128 │ expanded_conv_de… │\n",
      "│ (BatchNormalizatio… │ 32)               │            │                   │\n",
      "├─────────────────────┼───────────────────┼────────────┼───────────────────┤\n",
      "│ expanded_conv_dept… │ (None, 112, 112,  │          0 │ expanded_conv_de… │\n",
      "│ (ReLU)              │ 32)               │            │                   │\n",
      "├─────────────────────┼───────────────────┼────────────┼───────────────────┤\n",
      "│ expanded_conv_proj… │ (None, 112, 112,  │        512 │ expanded_conv_de… │\n",
      "│ (Conv2D)            │ 16)               │            │                   │\n",
      "├─────────────────────┼───────────────────┼────────────┼───────────────────┤\n",
      "│ expanded_conv_proj… │ (None, 112, 112,  │         64 │ expanded_conv_pr… │\n",
      "│ (BatchNormalizatio… │ 16)               │            │                   │\n",
      "├─────────────────────┼───────────────────┼────────────┼───────────────────┤\n",
      "│ block_1_expand      │ (None, 112, 112,  │      1,536 │ expanded_conv_pr… │\n",
      "│ (Conv2D)            │ 96)               │            │                   │\n",
      "├─────────────────────┼───────────────────┼────────────┼───────────────────┤\n",
      "│ block_1_expand_BN   │ (None, 112, 112,  │        384 │ block_1_expand[0… │\n",
      "│ (BatchNormalizatio… │ 96)               │            │                   │\n",
      "├─────────────────────┼───────────────────┼────────────┼───────────────────┤\n",
      "│ block_1_expand_relu │ (None, 112, 112,  │          0 │ block_1_expand_B… │\n",
      "│ (ReLU)              │ 96)               │            │                   │\n",
      "├─────────────────────┼───────────────────┼────────────┼───────────────────┤\n",
      "│ block_1_pad         │ (None, 113, 113,  │          0 │ block_1_expand_r… │\n",
      "│ (ZeroPadding2D)     │ 96)               │            │                   │\n",
      "├─────────────────────┼───────────────────┼────────────┼───────────────────┤\n",
      "│ block_1_depthwise   │ (None, 56, 56,    │        864 │ block_1_pad[0][0] │\n",
      "│ (DepthwiseConv2D)   │ 96)               │            │                   │\n",
      "├─────────────────────┼───────────────────┼────────────┼───────────────────┤\n",
      "│ block_1_depthwise_… │ (None, 56, 56,    │        384 │ block_1_depthwis… │\n",
      "│ (BatchNormalizatio… │ 96)               │            │                   │\n",
      "├─────────────────────┼───────────────────┼────────────┼───────────────────┤\n",
      "│ block_1_depthwise_… │ (None, 56, 56,    │          0 │ block_1_depthwis… │\n",
      "│ (ReLU)              │ 96)               │            │                   │\n",
      "├─────────────────────┼───────────────────┼────────────┼───────────────────┤\n",
      "│ block_1_project     │ (None, 56, 56,    │      2,304 │ block_1_depthwis… │\n",
      "│ (Conv2D)            │ 24)               │            │                   │\n",
      "├─────────────────────┼───────────────────┼────────────┼───────────────────┤\n",
      "│ block_1_project_BN  │ (None, 56, 56,    │         96 │ block_1_project[… │\n",
      "│ (BatchNormalizatio… │ 24)               │            │                   │\n",
      "├─────────────────────┼───────────────────┼────────────┼───────────────────┤\n",
      "│ block_2_expand      │ (None, 56, 56,    │      3,456 │ block_1_project_… │\n",
      "│ (Conv2D)            │ 144)              │            │                   │\n",
      "├─────────────────────┼───────────────────┼────────────┼───────────────────┤\n",
      "│ block_2_expand_BN   │ (None, 56, 56,    │        576 │ block_2_expand[0… │\n",
      "│ (BatchNormalizatio… │ 144)              │            │                   │\n",
      "├─────────────────────┼───────────────────┼────────────┼───────────────────┤\n",
      "│ block_2_expand_relu │ (None, 56, 56,    │          0 │ block_2_expand_B… │\n",
      "│ (ReLU)              │ 144)              │            │                   │\n",
      "├─────────────────────┼───────────────────┼────────────┼───────────────────┤\n",
      "│ block_2_depthwise   │ (None, 56, 56,    │      1,296 │ block_2_expand_r… │\n",
      "│ (DepthwiseConv2D)   │ 144)              │            │                   │\n",
      "├─────────────────────┼───────────────────┼────────────┼───────────────────┤\n",
      "│ block_2_depthwise_… │ (None, 56, 56,    │        576 │ block_2_depthwis… │\n",
      "│ (BatchNormalizatio… │ 144)              │            │                   │\n",
      "├─────────────────────┼───────────────────┼────────────┼───────────────────┤\n",
      "│ block_2_depthwise_… │ (None, 56, 56,    │          0 │ block_2_depthwis… │\n",
      "│ (ReLU)              │ 144)              │            │                   │\n",
      "├─────────────────────┼───────────────────┼────────────┼───────────────────┤\n",
      "│ block_2_project     │ (None, 56, 56,    │      3,456 │ block_2_depthwis… │\n",
      "│ (Conv2D)            │ 24)               │            │                   │\n",
      "├─────────────────────┼───────────────────┼────────────┼───────────────────┤\n",
      "│ block_2_project_BN  │ (None, 56, 56,    │         96 │ block_2_project[… │\n",
      "│ (BatchNormalizatio… │ 24)               │            │                   │\n",
      "├─────────────────────┼───────────────────┼────────────┼───────────────────┤\n",
      "│ block_2_add (Add)   │ (None, 56, 56,    │          0 │ block_1_project_… │\n",
      "│                     │ 24)               │            │ block_2_project_… │\n",
      "├─────────────────────┼───────────────────┼────────────┼───────────────────┤\n",
      "│ block_3_expand      │ (None, 56, 56,    │      3,456 │ block_2_add[0][0] │\n",
      "│ (Conv2D)            │ 144)              │            │                   │\n",
      "├─────────────────────┼───────────────────┼────────────┼───────────────────┤\n",
      "│ block_3_expand_BN   │ (None, 56, 56,    │        576 │ block_3_expand[0… │\n",
      "│ (BatchNormalizatio… │ 144)              │            │                   │\n",
      "├─────────────────────┼───────────────────┼────────────┼───────────────────┤\n",
      "│ block_3_expand_relu │ (None, 56, 56,    │          0 │ block_3_expand_B… │\n",
      "│ (ReLU)              │ 144)              │            │                   │\n",
      "├─────────────────────┼───────────────────┼────────────┼───────────────────┤\n",
      "│ block_3_pad         │ (None, 57, 57,    │          0 │ block_3_expand_r… │\n",
      "│ (ZeroPadding2D)     │ 144)              │            │                   │\n",
      "├─────────────────────┼───────────────────┼────────────┼───────────────────┤\n",
      "│ block_3_depthwise   │ (None, 28, 28,    │      1,296 │ block_3_pad[0][0] │\n",
      "│ (DepthwiseConv2D)   │ 144)              │            │                   │\n",
      "├─────────────────────┼───────────────────┼────────────┼───────────────────┤\n",
      "│ block_3_depthwise_… │ (None, 28, 28,    │        576 │ block_3_depthwis… │\n",
      "│ (BatchNormalizatio… │ 144)              │            │                   │\n",
      "├─────────────────────┼───────────────────┼────────────┼───────────────────┤\n",
      "│ block_3_depthwise_… │ (None, 28, 28,    │          0 │ block_3_depthwis… │\n",
      "│ (ReLU)              │ 144)              │            │                   │\n",
      "├─────────────────────┼───────────────────┼────────────┼───────────────────┤\n",
      "│ block_3_project     │ (None, 28, 28,    │      4,608 │ block_3_depthwis… │\n",
      "│ (Conv2D)            │ 32)               │            │                   │\n",
      "├─────────────────────┼───────────────────┼────────────┼───────────────────┤\n",
      "│ block_3_project_BN  │ (None, 28, 28,    │        128 │ block_3_project[… │\n",
      "│ (BatchNormalizatio… │ 32)               │            │                   │\n",
      "├─────────────────────┼───────────────────┼────────────┼───────────────────┤\n",
      "│ block_4_expand      │ (None, 28, 28,    │      6,144 │ block_3_project_… │\n",
      "│ (Conv2D)            │ 192)              │            │                   │\n",
      "├─────────────────────┼───────────────────┼────────────┼───────────────────┤\n",
      "│ block_4_expand_BN   │ (None, 28, 28,    │        768 │ block_4_expand[0… │\n",
      "│ (BatchNormalizatio… │ 192)              │            │                   │\n",
      "├─────────────────────┼───────────────────┼────────────┼───────────────────┤\n",
      "│ block_4_expand_relu │ (None, 28, 28,    │          0 │ block_4_expand_B… │\n",
      "│ (ReLU)              │ 192)              │            │                   │\n",
      "├─────────────────────┼───────────────────┼────────────┼───────────────────┤\n",
      "│ block_4_depthwise   │ (None, 28, 28,    │      1,728 │ block_4_expand_r… │\n",
      "│ (DepthwiseConv2D)   │ 192)              │            │                   │\n",
      "├─────────────────────┼───────────────────┼────────────┼───────────────────┤\n",
      "│ block_4_depthwise_… │ (None, 28, 28,    │        768 │ block_4_depthwis… │\n",
      "│ (BatchNormalizatio… │ 192)              │            │                   │\n",
      "├─────────────────────┼───────────────────┼────────────┼───────────────────┤\n",
      "│ block_4_depthwise_… │ (None, 28, 28,    │          0 │ block_4_depthwis… │\n",
      "│ (ReLU)              │ 192)              │            │                   │\n",
      "├─────────────────────┼───────────────────┼────────────┼───────────────────┤\n",
      "│ block_4_project     │ (None, 28, 28,    │      6,144 │ block_4_depthwis… │\n",
      "│ (Conv2D)            │ 32)               │            │                   │\n",
      "├─────────────────────┼───────────────────┼────────────┼───────────────────┤\n",
      "│ block_4_project_BN  │ (None, 28, 28,    │        128 │ block_4_project[… │\n",
      "│ (BatchNormalizatio… │ 32)               │            │                   │\n",
      "├─────────────────────┼───────────────────┼────────────┼───────────────────┤\n",
      "│ block_4_add (Add)   │ (None, 28, 28,    │          0 │ block_3_project_… │\n",
      "│                     │ 32)               │            │ block_4_project_… │\n",
      "├─────────────────────┼───────────────────┼────────────┼───────────────────┤\n",
      "│ block_5_expand      │ (None, 28, 28,    │      6,144 │ block_4_add[0][0] │\n",
      "│ (Conv2D)            │ 192)              │            │                   │\n",
      "├─────────────────────┼───────────────────┼────────────┼───────────────────┤\n",
      "│ block_5_expand_BN   │ (None, 28, 28,    │        768 │ block_5_expand[0… │\n",
      "│ (BatchNormalizatio… │ 192)              │            │                   │\n",
      "├─────────────────────┼───────────────────┼────────────┼───────────────────┤\n",
      "│ block_5_expand_relu │ (None, 28, 28,    │          0 │ block_5_expand_B… │\n",
      "│ (ReLU)              │ 192)              │            │                   │\n",
      "├─────────────────────┼───────────────────┼────────────┼───────────────────┤\n",
      "│ block_5_depthwise   │ (None, 28, 28,    │      1,728 │ block_5_expand_r… │\n",
      "│ (DepthwiseConv2D)   │ 192)              │            │                   │\n",
      "├─────────────────────┼───────────────────┼────────────┼───────────────────┤\n",
      "│ block_5_depthwise_… │ (None, 28, 28,    │        768 │ block_5_depthwis… │\n",
      "│ (BatchNormalizatio… │ 192)              │            │                   │\n",
      "├─────────────────────┼───────────────────┼────────────┼───────────────────┤\n",
      "│ block_5_depthwise_… │ (None, 28, 28,    │          0 │ block_5_depthwis… │\n",
      "│ (ReLU)              │ 192)              │            │                   │\n",
      "├─────────────────────┼───────────────────┼────────────┼───────────────────┤\n",
      "│ block_5_project     │ (None, 28, 28,    │      6,144 │ block_5_depthwis… │\n",
      "│ (Conv2D)            │ 32)               │            │                   │\n",
      "├─────────────────────┼───────────────────┼────────────┼───────────────────┤\n",
      "│ block_5_project_BN  │ (None, 28, 28,    │        128 │ block_5_project[… │\n",
      "│ (BatchNormalizatio… │ 32)               │            │                   │\n",
      "├─────────────────────┼───────────────────┼────────────┼───────────────────┤\n",
      "│ block_5_add (Add)   │ (None, 28, 28,    │          0 │ block_4_add[0][0… │\n",
      "│                     │ 32)               │            │ block_5_project_… │\n",
      "├─────────────────────┼───────────────────┼────────────┼───────────────────┤\n",
      "│ block_6_expand      │ (None, 28, 28,    │      6,144 │ block_5_add[0][0] │\n",
      "│ (Conv2D)            │ 192)              │            │                   │\n",
      "├─────────────────────┼───────────────────┼────────────┼───────────────────┤\n",
      "│ block_6_expand_BN   │ (None, 28, 28,    │        768 │ block_6_expand[0… │\n",
      "│ (BatchNormalizatio… │ 192)              │            │                   │\n",
      "├─────────────────────┼───────────────────┼────────────┼───────────────────┤\n",
      "│ block_6_expand_relu │ (None, 28, 28,    │          0 │ block_6_expand_B… │\n",
      "│ (ReLU)              │ 192)              │            │                   │\n",
      "├─────────────────────┼───────────────────┼────────────┼───────────────────┤\n",
      "│ block_6_pad         │ (None, 29, 29,    │          0 │ block_6_expand_r… │\n",
      "│ (ZeroPadding2D)     │ 192)              │            │                   │\n",
      "├─────────────────────┼───────────────────┼────────────┼───────────────────┤\n",
      "│ block_6_depthwise   │ (None, 14, 14,    │      1,728 │ block_6_pad[0][0] │\n",
      "│ (DepthwiseConv2D)   │ 192)              │            │                   │\n",
      "├─────────────────────┼───────────────────┼────────────┼───────────────────┤\n",
      "│ block_6_depthwise_… │ (None, 14, 14,    │        768 │ block_6_depthwis… │\n",
      "│ (BatchNormalizatio… │ 192)              │            │                   │\n",
      "├─────────────────────┼───────────────────┼────────────┼───────────────────┤\n",
      "│ block_6_depthwise_… │ (None, 14, 14,    │          0 │ block_6_depthwis… │\n",
      "│ (ReLU)              │ 192)              │            │                   │\n",
      "├─────────────────────┼───────────────────┼────────────┼───────────────────┤\n",
      "│ block_6_project     │ (None, 14, 14,    │     12,288 │ block_6_depthwis… │\n",
      "│ (Conv2D)            │ 64)               │            │                   │\n",
      "├─────────────────────┼───────────────────┼────────────┼───────────────────┤\n",
      "│ block_6_project_BN  │ (None, 14, 14,    │        256 │ block_6_project[… │\n",
      "│ (BatchNormalizatio… │ 64)               │            │                   │\n",
      "├─────────────────────┼───────────────────┼────────────┼───────────────────┤\n",
      "│ block_7_expand      │ (None, 14, 14,    │     24,576 │ block_6_project_… │\n",
      "│ (Conv2D)            │ 384)              │            │                   │\n",
      "├─────────────────────┼───────────────────┼────────────┼───────────────────┤\n",
      "│ block_7_expand_BN   │ (None, 14, 14,    │      1,536 │ block_7_expand[0… │\n",
      "│ (BatchNormalizatio… │ 384)              │            │                   │\n",
      "├─────────────────────┼───────────────────┼────────────┼───────────────────┤\n",
      "│ block_7_expand_relu │ (None, 14, 14,    │          0 │ block_7_expand_B… │\n",
      "│ (ReLU)              │ 384)              │            │                   │\n",
      "├─────────────────────┼───────────────────┼────────────┼───────────────────┤\n",
      "│ block_7_depthwise   │ (None, 14, 14,    │      3,456 │ block_7_expand_r… │\n",
      "│ (DepthwiseConv2D)   │ 384)              │            │                   │\n",
      "├─────────────────────┼───────────────────┼────────────┼───────────────────┤\n",
      "│ block_7_depthwise_… │ (None, 14, 14,    │      1,536 │ block_7_depthwis… │\n",
      "│ (BatchNormalizatio… │ 384)              │            │                   │\n",
      "├─────────────────────┼───────────────────┼────────────┼───────────────────┤\n",
      "│ block_7_depthwise_… │ (None, 14, 14,    │          0 │ block_7_depthwis… │\n",
      "│ (ReLU)              │ 384)              │            │                   │\n",
      "├─────────────────────┼───────────────────┼────────────┼───────────────────┤\n",
      "│ block_7_project     │ (None, 14, 14,    │     24,576 │ block_7_depthwis… │\n",
      "│ (Conv2D)            │ 64)               │            │                   │\n",
      "├─────────────────────┼───────────────────┼────────────┼───────────────────┤\n",
      "│ block_7_project_BN  │ (None, 14, 14,    │        256 │ block_7_project[… │\n",
      "│ (BatchNormalizatio… │ 64)               │            │                   │\n",
      "├─────────────────────┼───────────────────┼────────────┼───────────────────┤\n",
      "│ block_7_add (Add)   │ (None, 14, 14,    │          0 │ block_6_project_… │\n",
      "│                     │ 64)               │            │ block_7_project_… │\n",
      "├─────────────────────┼───────────────────┼────────────┼───────────────────┤\n",
      "│ block_8_expand      │ (None, 14, 14,    │     24,576 │ block_7_add[0][0] │\n",
      "│ (Conv2D)            │ 384)              │            │                   │\n",
      "├─────────────────────┼───────────────────┼────────────┼───────────────────┤\n",
      "│ block_8_expand_BN   │ (None, 14, 14,    │      1,536 │ block_8_expand[0… │\n",
      "│ (BatchNormalizatio… │ 384)              │            │                   │\n",
      "├─────────────────────┼───────────────────┼────────────┼───────────────────┤\n",
      "│ block_8_expand_relu │ (None, 14, 14,    │          0 │ block_8_expand_B… │\n",
      "│ (ReLU)              │ 384)              │            │                   │\n",
      "├─────────────────────┼───────────────────┼────────────┼───────────────────┤\n",
      "│ block_8_depthwise   │ (None, 14, 14,    │      3,456 │ block_8_expand_r… │\n",
      "│ (DepthwiseConv2D)   │ 384)              │            │                   │\n",
      "├─────────────────────┼───────────────────┼────────────┼───────────────────┤\n",
      "│ block_8_depthwise_… │ (None, 14, 14,    │      1,536 │ block_8_depthwis… │\n",
      "│ (BatchNormalizatio… │ 384)              │            │                   │\n",
      "├─────────────────────┼───────────────────┼────────────┼───────────────────┤\n",
      "│ block_8_depthwise_… │ (None, 14, 14,    │          0 │ block_8_depthwis… │\n",
      "│ (ReLU)              │ 384)              │            │                   │\n",
      "├─────────────────────┼───────────────────┼────────────┼───────────────────┤\n",
      "│ block_8_project     │ (None, 14, 14,    │     24,576 │ block_8_depthwis… │\n",
      "│ (Conv2D)            │ 64)               │            │                   │\n",
      "├─────────────────────┼───────────────────┼────────────┼───────────────────┤\n",
      "│ block_8_project_BN  │ (None, 14, 14,    │        256 │ block_8_project[… │\n",
      "│ (BatchNormalizatio… │ 64)               │            │                   │\n",
      "├─────────────────────┼───────────────────┼────────────┼───────────────────┤\n",
      "│ block_8_add (Add)   │ (None, 14, 14,    │          0 │ block_7_add[0][0… │\n",
      "│                     │ 64)               │            │ block_8_project_… │\n",
      "├─────────────────────┼───────────────────┼────────────┼───────────────────┤\n",
      "│ block_9_expand      │ (None, 14, 14,    │     24,576 │ block_8_add[0][0] │\n",
      "│ (Conv2D)            │ 384)              │            │                   │\n",
      "├─────────────────────┼───────────────────┼────────────┼───────────────────┤\n",
      "│ block_9_expand_BN   │ (None, 14, 14,    │      1,536 │ block_9_expand[0… │\n",
      "│ (BatchNormalizatio… │ 384)              │            │                   │\n",
      "├─────────────────────┼───────────────────┼────────────┼───────────────────┤\n",
      "│ block_9_expand_relu │ (None, 14, 14,    │          0 │ block_9_expand_B… │\n",
      "│ (ReLU)              │ 384)              │            │                   │\n",
      "├─────────────────────┼───────────────────┼────────────┼───────────────────┤\n",
      "│ block_9_depthwise   │ (None, 14, 14,    │      3,456 │ block_9_expand_r… │\n",
      "│ (DepthwiseConv2D)   │ 384)              │            │                   │\n",
      "├─────────────────────┼───────────────────┼────────────┼───────────────────┤\n",
      "│ block_9_depthwise_… │ (None, 14, 14,    │      1,536 │ block_9_depthwis… │\n",
      "│ (BatchNormalizatio… │ 384)              │            │                   │\n",
      "├─────────────────────┼───────────────────┼────────────┼───────────────────┤\n",
      "│ block_9_depthwise_… │ (None, 14, 14,    │          0 │ block_9_depthwis… │\n",
      "│ (ReLU)              │ 384)              │            │                   │\n",
      "├─────────────────────┼───────────────────┼────────────┼───────────────────┤\n",
      "│ block_9_project     │ (None, 14, 14,    │     24,576 │ block_9_depthwis… │\n",
      "│ (Conv2D)            │ 64)               │            │                   │\n",
      "├─────────────────────┼───────────────────┼────────────┼───────────────────┤\n",
      "│ block_9_project_BN  │ (None, 14, 14,    │        256 │ block_9_project[… │\n",
      "│ (BatchNormalizatio… │ 64)               │            │                   │\n",
      "├─────────────────────┼───────────────────┼────────────┼───────────────────┤\n",
      "│ block_9_add (Add)   │ (None, 14, 14,    │          0 │ block_8_add[0][0… │\n",
      "│                     │ 64)               │            │ block_9_project_… │\n",
      "├─────────────────────┼───────────────────┼────────────┼───────────────────┤\n",
      "│ block_10_expand     │ (None, 14, 14,    │     24,576 │ block_9_add[0][0] │\n",
      "│ (Conv2D)            │ 384)              │            │                   │\n",
      "├─────────────────────┼───────────────────┼────────────┼───────────────────┤\n",
      "│ block_10_expand_BN  │ (None, 14, 14,    │      1,536 │ block_10_expand[… │\n",
      "│ (BatchNormalizatio… │ 384)              │            │                   │\n",
      "├─────────────────────┼───────────────────┼────────────┼───────────────────┤\n",
      "│ block_10_expand_re… │ (None, 14, 14,    │          0 │ block_10_expand_… │\n",
      "│ (ReLU)              │ 384)              │            │                   │\n",
      "├─────────────────────┼───────────────────┼────────────┼───────────────────┤\n",
      "│ block_10_depthwise  │ (None, 14, 14,    │      3,456 │ block_10_expand_… │\n",
      "│ (DepthwiseConv2D)   │ 384)              │            │                   │\n",
      "├─────────────────────┼───────────────────┼────────────┼───────────────────┤\n",
      "│ block_10_depthwise… │ (None, 14, 14,    │      1,536 │ block_10_depthwi… │\n",
      "│ (BatchNormalizatio… │ 384)              │            │                   │\n",
      "├─────────────────────┼───────────────────┼────────────┼───────────────────┤\n",
      "│ block_10_depthwise… │ (None, 14, 14,    │          0 │ block_10_depthwi… │\n",
      "│ (ReLU)              │ 384)              │            │                   │\n",
      "├─────────────────────┼───────────────────┼────────────┼───────────────────┤\n",
      "│ block_10_project    │ (None, 14, 14,    │     36,864 │ block_10_depthwi… │\n",
      "│ (Conv2D)            │ 96)               │            │                   │\n",
      "├─────────────────────┼───────────────────┼────────────┼───────────────────┤\n",
      "│ block_10_project_BN │ (None, 14, 14,    │        384 │ block_10_project… │\n",
      "│ (BatchNormalizatio… │ 96)               │            │                   │\n",
      "├─────────────────────┼───────────────────┼────────────┼───────────────────┤\n",
      "│ block_11_expand     │ (None, 14, 14,    │     55,296 │ block_10_project… │\n",
      "│ (Conv2D)            │ 576)              │            │                   │\n",
      "├─────────────────────┼───────────────────┼────────────┼───────────────────┤\n",
      "│ block_11_expand_BN  │ (None, 14, 14,    │      2,304 │ block_11_expand[… │\n",
      "│ (BatchNormalizatio… │ 576)              │            │                   │\n",
      "├─────────────────────┼───────────────────┼────────────┼───────────────────┤\n",
      "│ block_11_expand_re… │ (None, 14, 14,    │          0 │ block_11_expand_… │\n",
      "│ (ReLU)              │ 576)              │            │                   │\n",
      "├─────────────────────┼───────────────────┼────────────┼───────────────────┤\n",
      "│ block_11_depthwise  │ (None, 14, 14,    │      5,184 │ block_11_expand_… │\n",
      "│ (DepthwiseConv2D)   │ 576)              │            │                   │\n",
      "├─────────────────────┼───────────────────┼────────────┼───────────────────┤\n",
      "│ block_11_depthwise… │ (None, 14, 14,    │      2,304 │ block_11_depthwi… │\n",
      "│ (BatchNormalizatio… │ 576)              │            │                   │\n",
      "├─────────────────────┼───────────────────┼────────────┼───────────────────┤\n",
      "│ block_11_depthwise… │ (None, 14, 14,    │          0 │ block_11_depthwi… │\n",
      "│ (ReLU)              │ 576)              │            │                   │\n",
      "├─────────────────────┼───────────────────┼────────────┼───────────────────┤\n",
      "│ block_11_project    │ (None, 14, 14,    │     55,296 │ block_11_depthwi… │\n",
      "│ (Conv2D)            │ 96)               │            │                   │\n",
      "├─────────────────────┼───────────────────┼────────────┼───────────────────┤\n",
      "│ block_11_project_BN │ (None, 14, 14,    │        384 │ block_11_project… │\n",
      "│ (BatchNormalizatio… │ 96)               │            │                   │\n",
      "├─────────────────────┼───────────────────┼────────────┼───────────────────┤\n",
      "│ block_11_add (Add)  │ (None, 14, 14,    │          0 │ block_10_project… │\n",
      "│                     │ 96)               │            │ block_11_project… │\n",
      "├─────────────────────┼───────────────────┼────────────┼───────────────────┤\n",
      "│ block_12_expand     │ (None, 14, 14,    │     55,296 │ block_11_add[0][… │\n",
      "│ (Conv2D)            │ 576)              │            │                   │\n",
      "├─────────────────────┼───────────────────┼────────────┼───────────────────┤\n",
      "│ block_12_expand_BN  │ (None, 14, 14,    │      2,304 │ block_12_expand[… │\n",
      "│ (BatchNormalizatio… │ 576)              │            │                   │\n",
      "├─────────────────────┼───────────────────┼────────────┼───────────────────┤\n",
      "│ block_12_expand_re… │ (None, 14, 14,    │          0 │ block_12_expand_… │\n",
      "│ (ReLU)              │ 576)              │            │                   │\n",
      "├─────────────────────┼───────────────────┼────────────┼───────────────────┤\n",
      "│ block_12_depthwise  │ (None, 14, 14,    │      5,184 │ block_12_expand_… │\n",
      "│ (DepthwiseConv2D)   │ 576)              │            │                   │\n",
      "├─────────────────────┼───────────────────┼────────────┼───────────────────┤\n",
      "│ block_12_depthwise… │ (None, 14, 14,    │      2,304 │ block_12_depthwi… │\n",
      "│ (BatchNormalizatio… │ 576)              │            │                   │\n",
      "├─────────────────────┼───────────────────┼────────────┼───────────────────┤\n",
      "│ block_12_depthwise… │ (None, 14, 14,    │          0 │ block_12_depthwi… │\n",
      "│ (ReLU)              │ 576)              │            │                   │\n",
      "├─────────────────────┼───────────────────┼────────────┼───────────────────┤\n",
      "│ block_12_project    │ (None, 14, 14,    │     55,296 │ block_12_depthwi… │\n",
      "│ (Conv2D)            │ 96)               │            │                   │\n",
      "├─────────────────────┼───────────────────┼────────────┼───────────────────┤\n",
      "│ block_12_project_BN │ (None, 14, 14,    │        384 │ block_12_project… │\n",
      "│ (BatchNormalizatio… │ 96)               │            │                   │\n",
      "├─────────────────────┼───────────────────┼────────────┼───────────────────┤\n",
      "│ block_12_add (Add)  │ (None, 14, 14,    │          0 │ block_11_add[0][… │\n",
      "│                     │ 96)               │            │ block_12_project… │\n",
      "├─────────────────────┼───────────────────┼────────────┼───────────────────┤\n",
      "│ block_13_expand     │ (None, 14, 14,    │     55,296 │ block_12_add[0][… │\n",
      "│ (Conv2D)            │ 576)              │            │                   │\n",
      "├─────────────────────┼───────────────────┼────────────┼───────────────────┤\n",
      "│ block_13_expand_BN  │ (None, 14, 14,    │      2,304 │ block_13_expand[… │\n",
      "│ (BatchNormalizatio… │ 576)              │            │                   │\n",
      "├─────────────────────┼───────────────────┼────────────┼───────────────────┤\n",
      "│ block_13_expand_re… │ (None, 14, 14,    │          0 │ block_13_expand_… │\n",
      "│ (ReLU)              │ 576)              │            │                   │\n",
      "├─────────────────────┼───────────────────┼────────────┼───────────────────┤\n",
      "│ block_13_pad        │ (None, 15, 15,    │          0 │ block_13_expand_… │\n",
      "│ (ZeroPadding2D)     │ 576)              │            │                   │\n",
      "├─────────────────────┼───────────────────┼────────────┼───────────────────┤\n",
      "│ block_13_depthwise  │ (None, 7, 7, 576) │      5,184 │ block_13_pad[0][… │\n",
      "│ (DepthwiseConv2D)   │                   │            │                   │\n",
      "├─────────────────────┼───────────────────┼────────────┼───────────────────┤\n",
      "│ block_13_depthwise… │ (None, 7, 7, 576) │      2,304 │ block_13_depthwi… │\n",
      "│ (BatchNormalizatio… │                   │            │                   │\n",
      "├─────────────────────┼───────────────────┼────────────┼───────────────────┤\n",
      "│ block_13_depthwise… │ (None, 7, 7, 576) │          0 │ block_13_depthwi… │\n",
      "│ (ReLU)              │                   │            │                   │\n",
      "├─────────────────────┼───────────────────┼────────────┼───────────────────┤\n",
      "│ block_13_project    │ (None, 7, 7, 160) │     92,160 │ block_13_depthwi… │\n",
      "│ (Conv2D)            │                   │            │                   │\n",
      "├─────────────────────┼───────────────────┼────────────┼───────────────────┤\n",
      "│ block_13_project_BN │ (None, 7, 7, 160) │        640 │ block_13_project… │\n",
      "│ (BatchNormalizatio… │                   │            │                   │\n",
      "├─────────────────────┼───────────────────┼────────────┼───────────────────┤\n",
      "│ block_14_expand     │ (None, 7, 7, 960) │    153,600 │ block_13_project… │\n",
      "│ (Conv2D)            │                   │            │                   │\n",
      "├─────────────────────┼───────────────────┼────────────┼───────────────────┤\n",
      "│ block_14_expand_BN  │ (None, 7, 7, 960) │      3,840 │ block_14_expand[… │\n",
      "│ (BatchNormalizatio… │                   │            │                   │\n",
      "├─────────────────────┼───────────────────┼────────────┼───────────────────┤\n",
      "│ block_14_expand_re… │ (None, 7, 7, 960) │          0 │ block_14_expand_… │\n",
      "│ (ReLU)              │                   │            │                   │\n",
      "├─────────────────────┼───────────────────┼────────────┼───────────────────┤\n",
      "│ block_14_depthwise  │ (None, 7, 7, 960) │      8,640 │ block_14_expand_… │\n",
      "│ (DepthwiseConv2D)   │                   │            │                   │\n",
      "├─────────────────────┼───────────────────┼────────────┼───────────────────┤\n",
      "│ block_14_depthwise… │ (None, 7, 7, 960) │      3,840 │ block_14_depthwi… │\n",
      "│ (BatchNormalizatio… │                   │            │                   │\n",
      "├─────────────────────┼───────────────────┼────────────┼───────────────────┤\n",
      "│ block_14_depthwise… │ (None, 7, 7, 960) │          0 │ block_14_depthwi… │\n",
      "│ (ReLU)              │                   │            │                   │\n",
      "├─────────────────────┼───────────────────┼────────────┼───────────────────┤\n",
      "│ block_14_project    │ (None, 7, 7, 160) │    153,600 │ block_14_depthwi… │\n",
      "│ (Conv2D)            │                   │            │                   │\n",
      "├─────────────────────┼───────────────────┼────────────┼───────────────────┤\n",
      "│ block_14_project_BN │ (None, 7, 7, 160) │        640 │ block_14_project… │\n",
      "│ (BatchNormalizatio… │                   │            │                   │\n",
      "├─────────────────────┼───────────────────┼────────────┼───────────────────┤\n",
      "│ block_14_add (Add)  │ (None, 7, 7, 160) │          0 │ block_13_project… │\n",
      "│                     │                   │            │ block_14_project… │\n",
      "├─────────────────────┼───────────────────┼────────────┼───────────────────┤\n",
      "│ block_15_expand     │ (None, 7, 7, 960) │    153,600 │ block_14_add[0][… │\n",
      "│ (Conv2D)            │                   │            │                   │\n",
      "├─────────────────────┼───────────────────┼────────────┼───────────────────┤\n",
      "│ block_15_expand_BN  │ (None, 7, 7, 960) │      3,840 │ block_15_expand[… │\n",
      "│ (BatchNormalizatio… │                   │            │                   │\n",
      "├─────────────────────┼───────────────────┼────────────┼───────────────────┤\n",
      "│ block_15_expand_re… │ (None, 7, 7, 960) │          0 │ block_15_expand_… │\n",
      "│ (ReLU)              │                   │            │                   │\n",
      "├─────────────────────┼───────────────────┼────────────┼───────────────────┤\n",
      "│ block_15_depthwise  │ (None, 7, 7, 960) │      8,640 │ block_15_expand_… │\n",
      "│ (DepthwiseConv2D)   │                   │            │                   │\n",
      "├─────────────────────┼───────────────────┼────────────┼───────────────────┤\n",
      "│ block_15_depthwise… │ (None, 7, 7, 960) │      3,840 │ block_15_depthwi… │\n",
      "│ (BatchNormalizatio… │                   │            │                   │\n",
      "├─────────────────────┼───────────────────┼────────────┼───────────────────┤\n",
      "│ block_15_depthwise… │ (None, 7, 7, 960) │          0 │ block_15_depthwi… │\n",
      "│ (ReLU)              │                   │            │                   │\n",
      "├─────────────────────┼───────────────────┼────────────┼───────────────────┤\n",
      "│ block_15_project    │ (None, 7, 7, 160) │    153,600 │ block_15_depthwi… │\n",
      "│ (Conv2D)            │                   │            │                   │\n",
      "├─────────────────────┼───────────────────┼────────────┼───────────────────┤\n",
      "│ block_15_project_BN │ (None, 7, 7, 160) │        640 │ block_15_project… │\n",
      "│ (BatchNormalizatio… │                   │            │                   │\n",
      "├─────────────────────┼───────────────────┼────────────┼───────────────────┤\n",
      "│ block_15_add (Add)  │ (None, 7, 7, 160) │          0 │ block_14_add[0][… │\n",
      "│                     │                   │            │ block_15_project… │\n",
      "├─────────────────────┼───────────────────┼────────────┼───────────────────┤\n",
      "│ block_16_expand     │ (None, 7, 7, 960) │    153,600 │ block_15_add[0][… │\n",
      "│ (Conv2D)            │                   │            │                   │\n",
      "├─────────────────────┼───────────────────┼────────────┼───────────────────┤\n",
      "│ block_16_expand_BN  │ (None, 7, 7, 960) │      3,840 │ block_16_expand[… │\n",
      "│ (BatchNormalizatio… │                   │            │                   │\n",
      "├─────────────────────┼───────────────────┼────────────┼───────────────────┤\n",
      "│ block_16_expand_re… │ (None, 7, 7, 960) │          0 │ block_16_expand_… │\n",
      "│ (ReLU)              │                   │            │                   │\n",
      "├─────────────────────┼───────────────────┼────────────┼───────────────────┤\n",
      "│ block_16_depthwise  │ (None, 7, 7, 960) │      8,640 │ block_16_expand_… │\n",
      "│ (DepthwiseConv2D)   │                   │            │                   │\n",
      "├─────────────────────┼───────────────────┼────────────┼───────────────────┤\n",
      "│ block_16_depthwise… │ (None, 7, 7, 960) │      3,840 │ block_16_depthwi… │\n",
      "│ (BatchNormalizatio… │                   │            │                   │\n",
      "├─────────────────────┼───────────────────┼────────────┼───────────────────┤\n",
      "│ block_16_depthwise… │ (None, 7, 7, 960) │          0 │ block_16_depthwi… │\n",
      "│ (ReLU)              │                   │            │                   │\n",
      "├─────────────────────┼───────────────────┼────────────┼───────────────────┤\n",
      "│ block_16_project    │ (None, 7, 7, 320) │    307,200 │ block_16_depthwi… │\n",
      "│ (Conv2D)            │                   │            │                   │\n",
      "├─────────────────────┼───────────────────┼────────────┼───────────────────┤\n",
      "│ block_16_project_BN │ (None, 7, 7, 320) │      1,280 │ block_16_project… │\n",
      "│ (BatchNormalizatio… │                   │            │                   │\n",
      "├─────────────────────┼───────────────────┼────────────┼───────────────────┤\n",
      "│ Conv_1 (Conv2D)     │ (None, 7, 7,      │    409,600 │ block_16_project… │\n",
      "│                     │ 1280)             │            │                   │\n",
      "├─────────────────────┼───────────────────┼────────────┼───────────────────┤\n",
      "│ Conv_1_bn           │ (None, 7, 7,      │      5,120 │ Conv_1[0][0]      │\n",
      "│ (BatchNormalizatio… │ 1280)             │            │                   │\n",
      "├─────────────────────┼───────────────────┼────────────┼───────────────────┤\n",
      "│ out_relu (ReLU)     │ (None, 7, 7,      │          0 │ Conv_1_bn[0][0]   │\n",
      "│                     │ 1280)             │            │                   │\n",
      "├─────────────────────┼───────────────────┼────────────┼───────────────────┤\n",
      "│ global_average_poo… │ (None, 1280)      │          0 │ out_relu[0][0]    │\n",
      "│ (GlobalAveragePool… │                   │            │                   │\n",
      "└─────────────────────┴───────────────────┴────────────┴───────────────────┘\n",
      " Total params: 2,257,984 (8.61 MB)\n",
      " Trainable params: 2,223,872 (8.48 MB)\n",
      " Non-trainable params: 34,112 (133.25 KB)"
     ]
    }
   ],
   "source": [
    "model = MobileNetV2(weights='imagenet', include_top=True, input_shape=(224, 224, 3))\n",
    "new_model = Model(inputs=model.input, outputs=model.layers[-2].output)\n",
    "new_model.summary()"
   ]
  },
  {
   "cell_type": "markdown",
   "id": "cf5cf85a-0913-4bef-a0e0-ea839c6ed374",
   "metadata": {},
   "source": [
    "## 2.3 - Broadcast weights"
   ]
  },
  {
   "cell_type": "code",
   "execution_count": 10,
   "id": "e95cec73-cd35-42ac-bec1-f7f89997cfe7",
   "metadata": {
    "execution": {
     "iopub.execute_input": "2024-08-24T17:49:48.949567Z",
     "iopub.status.busy": "2024-08-24T17:49:48.948974Z",
     "iopub.status.idle": "2024-08-24T17:49:49.216381Z",
     "shell.execute_reply": "2024-08-24T17:49:49.215675Z",
     "shell.execute_reply.started": "2024-08-24T17:49:48.949524Z"
    },
    "tags": []
   },
   "outputs": [
    {
     "data": {
      "application/vnd.jupyter.widget-view+json": {
       "model_id": "506ae51aae5a4c3ca368a61f4dc35f8b",
       "version_major": 2,
       "version_minor": 0
      },
      "text/plain": [
       "VBox()"
      ]
     },
     "metadata": {},
     "output_type": "display_data"
    },
    {
     "data": {
      "application/vnd.jupyter.widget-view+json": {
       "model_id": "",
       "version_major": 2,
       "version_minor": 0
      },
      "text/plain": [
       "FloatProgress(value=0.0, bar_style='info', description='Progress:', layout=Layout(height='25px', width='50%'),…"
      ]
     },
     "metadata": {},
     "output_type": "display_data"
    }
   ],
   "source": [
    "from pyspark.sql.functions import broadcast\n",
    "broadcast_weights = sc.broadcast(new_model.get_weights())"
   ]
  },
  {
   "cell_type": "markdown",
   "id": "23e5aa77-610b-46e0-af9f-14f1daa28cb8",
   "metadata": {},
   "source": [
    "## 2.4 - Define transfer learning functions"
   ]
  },
  {
   "cell_type": "code",
   "execution_count": 11,
   "id": "1558f8c7-a45d-4f5f-a0c2-3a2e4001f963",
   "metadata": {
    "execution": {
     "iopub.execute_input": "2024-08-24T17:49:49.217891Z",
     "iopub.status.busy": "2024-08-24T17:49:49.217719Z",
     "iopub.status.idle": "2024-08-24T17:49:49.276616Z",
     "shell.execute_reply": "2024-08-24T17:49:49.276029Z",
     "shell.execute_reply.started": "2024-08-24T17:49:49.217868Z"
    },
    "tags": []
   },
   "outputs": [
    {
     "data": {
      "application/vnd.jupyter.widget-view+json": {
       "model_id": "aa23e5909a194b599f4935f51472c46d",
       "version_major": 2,
       "version_minor": 0
      },
      "text/plain": [
       "VBox()"
      ]
     },
     "metadata": {},
     "output_type": "display_data"
    },
    {
     "data": {
      "application/vnd.jupyter.widget-view+json": {
       "model_id": "",
       "version_major": 2,
       "version_minor": 0
      },
      "text/plain": [
       "FloatProgress(value=0.0, bar_style='info', description='Progress:', layout=Layout(height='25px', width='50%'),…"
      ]
     },
     "metadata": {},
     "output_type": "display_data"
    }
   ],
   "source": [
    "def model_fn():\n",
    "    \"\"\"\n",
    "    Returns a MobileNetV2 model with top layer removed \n",
    "    and broadcasted pretrained weights.\n",
    "    \"\"\"\n",
    "    model = MobileNetV2(weights='imagenet',\n",
    "                        include_top=True,\n",
    "                        input_shape=(224, 224, 3))\n",
    "    for layer in model.layers:\n",
    "        layer.trainable = False\n",
    "    new_model = Model(inputs=model.input,\n",
    "                  outputs=model.layers[-2].output)\n",
    "    new_model.set_weights(broadcast_weights.value)\n",
    "    return new_model"
   ]
  },
  {
   "cell_type": "code",
   "execution_count": 12,
   "id": "6138a261-ccd3-499c-a2ed-52cdfc423ea8",
   "metadata": {
    "execution": {
     "iopub.execute_input": "2024-08-24T17:49:49.277763Z",
     "iopub.status.busy": "2024-08-24T17:49:49.277596Z",
     "iopub.status.idle": "2024-08-24T17:49:49.326779Z",
     "shell.execute_reply": "2024-08-24T17:49:49.326165Z",
     "shell.execute_reply.started": "2024-08-24T17:49:49.277740Z"
    },
    "tags": []
   },
   "outputs": [
    {
     "data": {
      "application/vnd.jupyter.widget-view+json": {
       "model_id": "42a24ecde3c54156bb3e95162cba8d10",
       "version_major": 2,
       "version_minor": 0
      },
      "text/plain": [
       "VBox()"
      ]
     },
     "metadata": {},
     "output_type": "display_data"
    },
    {
     "data": {
      "application/vnd.jupyter.widget-view+json": {
       "model_id": "",
       "version_major": 2,
       "version_minor": 0
      },
      "text/plain": [
       "FloatProgress(value=0.0, bar_style='info', description='Progress:', layout=Layout(height='25px', width='50%'),…"
      ]
     },
     "metadata": {},
     "output_type": "display_data"
    }
   ],
   "source": [
    "def preprocess(content):\n",
    "    \"\"\"\n",
    "    Preprocesses raw image bytes for prediction. When you load an image with imread(), the pixel values are in the 0 - 255\n",
    "    range. However, MobileNetV2 expects pixel values to be in the -1 to 1 range. You could perform this transformation yourself,\n",
    "    but Keras also provides preprocessing functions - use from keras.applications.mobilenet_v2 import preprocess_input\n",
    "    source : https://pythontutorials.eu/deep-learning/image-classification/\n",
    "    \"\"\"\n",
    "    img = Image.open(io.BytesIO(content)).resize([224, 224])\n",
    "    arr = img_to_array(img)\n",
    "    return preprocess_input(arr)"
   ]
  },
  {
   "cell_type": "code",
   "execution_count": 13,
   "id": "24a81210-9620-4b0a-a856-01b50c76c7a8",
   "metadata": {
    "execution": {
     "iopub.execute_input": "2024-08-24T17:49:49.327917Z",
     "iopub.status.busy": "2024-08-24T17:49:49.327741Z",
     "iopub.status.idle": "2024-08-24T17:49:49.600963Z",
     "shell.execute_reply": "2024-08-24T17:49:49.600183Z",
     "shell.execute_reply.started": "2024-08-24T17:49:49.327893Z"
    },
    "tags": []
   },
   "outputs": [
    {
     "data": {
      "application/vnd.jupyter.widget-view+json": {
       "model_id": "49c298cdd0fd4940b7967399a5118c47",
       "version_major": 2,
       "version_minor": 0
      },
      "text/plain": [
       "VBox()"
      ]
     },
     "metadata": {},
     "output_type": "display_data"
    },
    {
     "data": {
      "application/vnd.jupyter.widget-view+json": {
       "model_id": "",
       "version_major": 2,
       "version_minor": 0
      },
      "text/plain": [
       "FloatProgress(value=0.0, bar_style='info', description='Progress:', layout=Layout(height='25px', width='50%'),…"
      ]
     },
     "metadata": {},
     "output_type": "display_data"
    },
    {
     "name": "stdout",
     "output_type": "stream",
     "text": [
      "/mnt1/yarn/usercache/livy/appcache/application_1724521548836_0001/container_1724521548836_0001_01_000001/pyspark.zip/pyspark/sql/pandas/functions.py:407: UserWarning: In Python 3.6+ and Spark 3.0+, it is preferred to specify type hints for pandas UDF instead of specifying pandas UDF type which will be deprecated in the future releases. See SPARK-28264 for more details."
     ]
    }
   ],
   "source": [
    "def featurize_series(model, content_series):\n",
    "    \"\"\"\n",
    "    Featurize a pd.Series of raw images using the input model.\n",
    "    :return: a pd.Series of image features\n",
    "    \"\"\"\n",
    "    input = np.stack(content_series.map(preprocess))\n",
    "    \n",
    "    # make sure verbose is set to FALSE in model.predict otherwise\n",
    "    # features_df.write.option(\"encoding\", \"utf-8\").mode(\"overwrite\").parquet(PATH_Results)\n",
    "    # will raise a WIN1252 codec writing error when writing the parquet file at OUT[28] below\n",
    "    preds = model.predict(input, verbose=0)\n",
    "    \n",
    "       \n",
    "    \n",
    "    # For some layers, output features will be multi-dimensional tensors.\n",
    "    # We flatten the feature tensors to vectors for easier storage in Spark DataFrames.\n",
    "    output = [p.flatten() for p in preds]\n",
    "    return pd.Series(output)\n",
    "\n",
    "@pandas_udf('array<float>', PandasUDFType.SCALAR_ITER)\n",
    "def featurize_udf(content_series_iter):\n",
    "    '''\n",
    "    This method is a Scalar Iterator pandas UDF wrapping our featurization function.\n",
    "    The decorator specifies that this returns a Spark DataFrame column of type ArrayType(FloatType).\n",
    "\n",
    "    :param content_series_iter: This argument is an iterator over batches of data, where each batch\n",
    "                              is a pandas Series of image data.\n",
    "    '''\n",
    "    # With Scalar Iterator pandas UDFs, we can load the model once and then re-use it\n",
    "    # for multiple data batches.  This amortizes the overhead of loading big models.\n",
    "    model = model_fn()\n",
    "    for content_series in content_series_iter:\n",
    "        yield featurize_series(model, content_series)"
   ]
  },
  {
   "cell_type": "markdown",
   "id": "b96dca71-c40c-4000-b1b6-d5130bf41e29",
   "metadata": {},
   "source": [
    "## 2.5 - Apply model to fruit images sample"
   ]
  },
  {
   "cell_type": "code",
   "execution_count": 14,
   "id": "8fd53e72-7485-4351-a792-777a358c93ff",
   "metadata": {
    "execution": {
     "iopub.execute_input": "2024-08-24T17:49:49.602172Z",
     "iopub.status.busy": "2024-08-24T17:49:49.602001Z",
     "iopub.status.idle": "2024-08-24T17:49:49.869817Z",
     "shell.execute_reply": "2024-08-24T17:49:49.869125Z",
     "shell.execute_reply.started": "2024-08-24T17:49:49.602150Z"
    },
    "tags": []
   },
   "outputs": [
    {
     "data": {
      "application/vnd.jupyter.widget-view+json": {
       "model_id": "b12fbbdf23704de88b8e255ceb5d8de8",
       "version_major": 2,
       "version_minor": 0
      },
      "text/plain": [
       "VBox()"
      ]
     },
     "metadata": {},
     "output_type": "display_data"
    },
    {
     "data": {
      "application/vnd.jupyter.widget-view+json": {
       "model_id": "",
       "version_major": 2,
       "version_minor": 0
      },
      "text/plain": [
       "FloatProgress(value=0.0, bar_style='info', description='Progress:', layout=Layout(height='25px', width='50%'),…"
      ]
     },
     "metadata": {},
     "output_type": "display_data"
    }
   ],
   "source": [
    "# Apply model transfer learning to images\n",
    "features_df = images.repartition(20).select(col(\"path\"), col(\"label\"), featurize_udf(\"content\").alias(\"features\"))"
   ]
  },
  {
   "cell_type": "code",
   "execution_count": 15,
   "id": "ed99847e-632e-4de5-96e6-19b9b5dbfdd5",
   "metadata": {
    "execution": {
     "iopub.execute_input": "2024-08-24T17:49:49.871316Z",
     "iopub.status.busy": "2024-08-24T17:49:49.871051Z",
     "iopub.status.idle": "2024-08-24T17:50:11.242163Z",
     "shell.execute_reply": "2024-08-24T17:50:11.241281Z",
     "shell.execute_reply.started": "2024-08-24T17:49:49.871276Z"
    },
    "tags": []
   },
   "outputs": [
    {
     "data": {
      "application/vnd.jupyter.widget-view+json": {
       "model_id": "6a082e317234445eb5f8f2f541a55b0a",
       "version_major": 2,
       "version_minor": 0
      },
      "text/plain": [
       "VBox()"
      ]
     },
     "metadata": {},
     "output_type": "display_data"
    },
    {
     "data": {
      "application/vnd.jupyter.widget-view+json": {
       "model_id": "",
       "version_major": 2,
       "version_minor": 0
      },
      "text/plain": [
       "FloatProgress(value=0.0, bar_style='info', description='Progress:', layout=Layout(height='25px', width='50%'),…"
      ]
     },
     "metadata": {},
     "output_type": "display_data"
    }
   ],
   "source": [
    "# write results to s3 bucket\n",
    "\n",
    "# make sure verbose is set to FALSE in model.predict at IN[24] above otherwise the following error will be raised\n",
    "# caused by org.apache.spark.sparkexception task failed while writing rows Anaconda3\\lib\\encodings\\cp1252.py 'charmap' codec\n",
    "# can't encode characters in position 19-38: character maps to <undefined>\n",
    "features_df.write.option(\"encoding\", \"utf-8\").mode(\"overwrite\").parquet(PATH_Results)"
   ]
  },
  {
   "cell_type": "code",
   "execution_count": 16,
   "id": "2b8c68f5-f6ce-41ff-8ba5-ecd8a326bf04",
   "metadata": {
    "execution": {
     "iopub.execute_input": "2024-08-24T17:50:11.243725Z",
     "iopub.status.busy": "2024-08-24T17:50:11.243481Z",
     "iopub.status.idle": "2024-08-24T17:50:12.012646Z",
     "shell.execute_reply": "2024-08-24T17:50:12.012007Z",
     "shell.execute_reply.started": "2024-08-24T17:50:11.243689Z"
    },
    "tags": []
   },
   "outputs": [
    {
     "data": {
      "application/vnd.jupyter.widget-view+json": {
       "model_id": "ca39930a7130474baad5830c9485e20a",
       "version_major": 2,
       "version_minor": 0
      },
      "text/plain": [
       "VBox()"
      ]
     },
     "metadata": {},
     "output_type": "display_data"
    },
    {
     "data": {
      "application/vnd.jupyter.widget-view+json": {
       "model_id": "",
       "version_major": 2,
       "version_minor": 0
      },
      "text/plain": [
       "FloatProgress(value=0.0, bar_style='info', description='Progress:', layout=Layout(height='25px', width='50%'),…"
      ]
     },
     "metadata": {},
     "output_type": "display_data"
    },
    {
     "name": "stdout",
     "output_type": "stream",
     "text": [
      "                                               path  ...                                           features\n",
      "0  s3://ocds-p9-data/Test1/passionfruit/109_100.jpg  ...  [0.25161672, 0.0, 0.0, 0.0, 0.0083105415, 0.76...\n",
      "1         s3://ocds-p9-data/Test1/salak/133_100.jpg  ...  [2.4172416, 0.0652101, 0.0, 0.0063302275, 0.0,...\n",
      "2  s3://ocds-p9-data/Test1/passionfruit/110_100.jpg  ...  [0.32722062, 0.0, 0.0, 0.0, 0.0, 0.7796022, 0....\n",
      "3      s3://ocds-p9-data/Test1/salak/10_100 (1).jpg  ...  [1.9246143, 0.06737837, 0.0, 0.0056824684, 0.0...\n",
      "4         s3://ocds-p9-data/Test1/salak/132_100.jpg  ...  [2.3859947, 0.07431848, 0.0, 0.001740767, 0.0,...\n",
      "\n",
      "[5 rows x 3 columns]"
     ]
    }
   ],
   "source": [
    "# check results\n",
    "df = pd.read_parquet(PATH_Results, engine='pyarrow')\n",
    "df.head()"
   ]
  },
  {
   "cell_type": "code",
   "execution_count": 17,
   "id": "d463980c-cb10-4b77-9852-47f6ce60a4f6",
   "metadata": {
    "execution": {
     "iopub.execute_input": "2024-08-24T17:50:12.013872Z",
     "iopub.status.busy": "2024-08-24T17:50:12.013543Z",
     "iopub.status.idle": "2024-08-24T17:50:12.065825Z",
     "shell.execute_reply": "2024-08-24T17:50:12.065209Z",
     "shell.execute_reply.started": "2024-08-24T17:50:12.013846Z"
    },
    "tags": []
   },
   "outputs": [
    {
     "data": {
      "application/vnd.jupyter.widget-view+json": {
       "model_id": "8e430bf565174ce494bb787f2908a922",
       "version_major": 2,
       "version_minor": 0
      },
      "text/plain": [
       "VBox()"
      ]
     },
     "metadata": {},
     "output_type": "display_data"
    },
    {
     "data": {
      "application/vnd.jupyter.widget-view+json": {
       "model_id": "",
       "version_major": 2,
       "version_minor": 0
      },
      "text/plain": [
       "FloatProgress(value=0.0, bar_style='info', description='Progress:', layout=Layout(height='25px', width='50%'),…"
      ]
     },
     "metadata": {},
     "output_type": "display_data"
    },
    {
     "name": "stdout",
     "output_type": "stream",
     "text": [
      "(1280,)"
     ]
    }
   ],
   "source": [
    "# check features vectors have expected size\n",
    "df.loc[0,'features'].shape"
   ]
  },
  {
   "cell_type": "markdown",
   "id": "01304ec2-55ba-4880-8d3b-c3feb0f7cc56",
   "metadata": {},
   "source": [
    "# 3 - PCA on model results"
   ]
  },
  {
   "cell_type": "markdown",
   "id": "67a43928-bfbb-46ca-9f0d-5b8391c1c370",
   "metadata": {},
   "source": [
    "## 3.1 - Import packages & prepare model data"
   ]
  },
  {
   "cell_type": "code",
   "execution_count": 18,
   "id": "dff17db5-b483-4bf4-8469-fa4b7e01fa91",
   "metadata": {
    "execution": {
     "iopub.execute_input": "2024-08-24T17:50:12.066985Z",
     "iopub.status.busy": "2024-08-24T17:50:12.066819Z",
     "iopub.status.idle": "2024-08-24T17:50:12.832852Z",
     "shell.execute_reply": "2024-08-24T17:50:12.832295Z",
     "shell.execute_reply.started": "2024-08-24T17:50:12.066963Z"
    },
    "tags": []
   },
   "outputs": [
    {
     "data": {
      "application/vnd.jupyter.widget-view+json": {
       "model_id": "595362f2f4ff4b3cb8c3ad6765082256",
       "version_major": 2,
       "version_minor": 0
      },
      "text/plain": [
       "VBox()"
      ]
     },
     "metadata": {},
     "output_type": "display_data"
    },
    {
     "data": {
      "application/vnd.jupyter.widget-view+json": {
       "model_id": "",
       "version_major": 2,
       "version_minor": 0
      },
      "text/plain": [
       "FloatProgress(value=0.0, bar_style='info', description='Progress:', layout=Layout(height='25px', width='50%'),…"
      ]
     },
     "metadata": {},
     "output_type": "display_data"
    }
   ],
   "source": [
    "# import packages and functions required\n",
    "from pyspark.ml.feature import PCA\n",
    "from pyspark.ml.feature import VectorAssembler\n",
    "# from pyspark.ml.feature import StandardScaler"
   ]
  },
  {
   "cell_type": "code",
   "execution_count": 19,
   "id": "2aca078c-b192-4b36-995e-f807064beb59",
   "metadata": {
    "execution": {
     "iopub.execute_input": "2024-08-24T17:50:12.833930Z",
     "iopub.status.busy": "2024-08-24T17:50:12.833738Z",
     "iopub.status.idle": "2024-08-24T17:50:12.887077Z",
     "shell.execute_reply": "2024-08-24T17:50:12.886345Z",
     "shell.execute_reply.started": "2024-08-24T17:50:12.833904Z"
    },
    "tags": []
   },
   "outputs": [
    {
     "data": {
      "application/vnd.jupyter.widget-view+json": {
       "model_id": "2d38a9a85b7a4302a394316bcf366543",
       "version_major": 2,
       "version_minor": 0
      },
      "text/plain": [
       "VBox()"
      ]
     },
     "metadata": {},
     "output_type": "display_data"
    },
    {
     "data": {
      "application/vnd.jupyter.widget-view+json": {
       "model_id": "",
       "version_major": 2,
       "version_minor": 0
      },
      "text/plain": [
       "FloatProgress(value=0.0, bar_style='info', description='Progress:', layout=Layout(height='25px', width='50%'),…"
      ]
     },
     "metadata": {},
     "output_type": "display_data"
    },
    {
     "name": "stdout",
     "output_type": "stream",
     "text": [
      "dtype('O')"
     ]
    }
   ],
   "source": [
    "# check data type of resulting dataframe vector column\n",
    "df['features'].values.dtype"
   ]
  },
  {
   "cell_type": "code",
   "execution_count": 20,
   "id": "585ae784-51bc-4d88-aa3e-48686b335e3f",
   "metadata": {
    "execution": {
     "iopub.execute_input": "2024-08-24T17:50:12.888246Z",
     "iopub.status.busy": "2024-08-24T17:50:12.888072Z",
     "iopub.status.idle": "2024-08-24T17:50:13.153208Z",
     "shell.execute_reply": "2024-08-24T17:50:13.152482Z",
     "shell.execute_reply.started": "2024-08-24T17:50:12.888223Z"
    },
    "tags": []
   },
   "outputs": [
    {
     "data": {
      "application/vnd.jupyter.widget-view+json": {
       "model_id": "b53f2a1b0b0646e889cf1cee0a2c6cfc",
       "version_major": 2,
       "version_minor": 0
      },
      "text/plain": [
       "VBox()"
      ]
     },
     "metadata": {},
     "output_type": "display_data"
    },
    {
     "data": {
      "application/vnd.jupyter.widget-view+json": {
       "model_id": "",
       "version_major": 2,
       "version_minor": 0
      },
      "text/plain": [
       "FloatProgress(value=0.0, bar_style='info', description='Progress:', layout=Layout(height='25px', width='50%'),…"
      ]
     },
     "metadata": {},
     "output_type": "display_data"
    },
    {
     "name": "stdout",
     "output_type": "stream",
     "text": [
      "       0         1     2         3     ...      1276  1277      1278      1279\n",
      "0  0.251617  0.000000   0.0  0.000000  ...  0.000000   0.0  0.057831  0.001474\n",
      "1  2.417242  0.065210   0.0  0.006330  ...  0.004630   0.0  0.081895  0.049530\n",
      "2  0.327221  0.000000   0.0  0.000000  ...  0.000000   0.0  0.053580  0.020879\n",
      "3  1.924614  0.067378   0.0  0.005682  ...  0.013763   0.0  0.000000  1.446880\n",
      "4  2.385995  0.074318   0.0  0.001741  ...  0.000000   0.0  0.120571  0.347208\n",
      "\n",
      "[5 rows x 1280 columns]"
     ]
    }
   ],
   "source": [
    "# transform df['features'] vectors column into dataframe\n",
    "# vstack rebuilds arrays divided by vsplit - see numpy doc at https://numpy.org/doc/stable/reference/generated/numpy.vstack.html\n",
    "df2 = pd.DataFrame(np.vstack(df['features']))\n",
    "df2.head()"
   ]
  },
  {
   "cell_type": "code",
   "execution_count": 21,
   "id": "848e065a-23a4-4cec-a154-7eb340ec02a7",
   "metadata": {
    "execution": {
     "iopub.execute_input": "2024-08-24T17:50:13.154700Z",
     "iopub.status.busy": "2024-08-24T17:50:13.154429Z",
     "iopub.status.idle": "2024-08-24T17:50:15.463358Z",
     "shell.execute_reply": "2024-08-24T17:50:15.461669Z",
     "shell.execute_reply.started": "2024-08-24T17:50:13.154663Z"
    },
    "tags": []
   },
   "outputs": [
    {
     "data": {
      "application/vnd.jupyter.widget-view+json": {
       "model_id": "a5f8a4df9b584f9bb28dc90ac3b67bd7",
       "version_major": 2,
       "version_minor": 0
      },
      "text/plain": [
       "VBox()"
      ]
     },
     "metadata": {},
     "output_type": "display_data"
    },
    {
     "data": {
      "application/vnd.jupyter.widget-view+json": {
       "model_id": "",
       "version_major": 2,
       "version_minor": 0
      },
      "text/plain": [
       "FloatProgress(value=0.0, bar_style='info', description='Progress:', layout=Layout(height='25px', width='50%'),…"
      ]
     },
     "metadata": {},
     "output_type": "display_data"
    },
    {
     "name": "stdout",
     "output_type": "stream",
     "text": [
      "/mnt1/yarn/usercache/livy/appcache/application_1724521548836_0001/container_1724521548836_0001_01_000001/pyspark.zip/pyspark/sql/context.py:113: FutureWarning: Deprecated in 3.0.0. Use SparkSession.builder.getOrCreate() instead."
     ]
    }
   ],
   "source": [
    "# careful - it is the Spark session (called 'spark' in this notebook) that has a createDataFrame attribute,\n",
    "# not the Sark Context sc - see https://spark.apache.org/docs/3.1.1/api/python/reference/api/pyspark.sql.SparkSession.createDataFrame.html\n",
    "# and https://stackoverflow.com/questions/40651003/attributeerror-sparkcontext-object-has-no-attribute-createdataframe-using-s\n",
    "# so this test_sdf = sc.createDataFrame(df2) triggers error\n",
    "# test_sdf = spark.createDataFrame(df2) # but this works just fine\n",
    "\n",
    "# convert pandas df to Spark df\n",
    "from pyspark.sql import SQLContext\n",
    "sqlContext = SQLContext(sc)\n",
    "spark_df2 = sqlContext.createDataFrame(df2)"
   ]
  },
  {
   "cell_type": "code",
   "execution_count": 22,
   "id": "79f59ebf-25e9-4dd5-b6e6-6a799a0790f8",
   "metadata": {
    "execution": {
     "iopub.execute_input": "2024-08-24T17:50:15.473446Z",
     "iopub.status.busy": "2024-08-24T17:50:15.471490Z",
     "iopub.status.idle": "2024-08-24T17:50:17.818152Z",
     "shell.execute_reply": "2024-08-24T17:50:17.817454Z",
     "shell.execute_reply.started": "2024-08-24T17:50:15.473403Z"
    },
    "tags": []
   },
   "outputs": [
    {
     "data": {
      "application/vnd.jupyter.widget-view+json": {
       "model_id": "ca66cbbfd423446196717f807f643606",
       "version_major": 2,
       "version_minor": 0
      },
      "text/plain": [
       "VBox()"
      ]
     },
     "metadata": {},
     "output_type": "display_data"
    },
    {
     "data": {
      "application/vnd.jupyter.widget-view+json": {
       "model_id": "",
       "version_major": 2,
       "version_minor": 0
      },
      "text/plain": [
       "FloatProgress(value=0.0, bar_style='info', description='Progress:', layout=Layout(height='25px', width='50%'),…"
      ]
     },
     "metadata": {},
     "output_type": "display_data"
    }
   ],
   "source": [
    "cols = df2.columns.astype(str).tolist()\n",
    "\n",
    "# instanciate vector assembler \n",
    "assembler = VectorAssembler(inputCols=cols, outputCol=\"features\")\n",
    "\n",
    "# transform df\n",
    "prepared_df = assembler.transform(spark_df2)"
   ]
  },
  {
   "cell_type": "markdown",
   "id": "96b1d514-cd83-4685-864e-61b20a3a4264",
   "metadata": {},
   "source": [
    "## 3.2 - Run PCA"
   ]
  },
  {
   "cell_type": "code",
   "execution_count": 23,
   "id": "640b0fdf-2da4-4cc7-ada2-8738f51d9475",
   "metadata": {
    "execution": {
     "iopub.execute_input": "2024-08-24T17:50:17.820177Z",
     "iopub.status.busy": "2024-08-24T17:50:17.819911Z",
     "iopub.status.idle": "2024-08-24T17:50:39.225750Z",
     "shell.execute_reply": "2024-08-24T17:50:39.224994Z",
     "shell.execute_reply.started": "2024-08-24T17:50:17.820138Z"
    },
    "tags": []
   },
   "outputs": [
    {
     "data": {
      "application/vnd.jupyter.widget-view+json": {
       "model_id": "0ab7c94a110740f085d1e3e1c19a6123",
       "version_major": 2,
       "version_minor": 0
      },
      "text/plain": [
       "VBox()"
      ]
     },
     "metadata": {},
     "output_type": "display_data"
    },
    {
     "data": {
      "application/vnd.jupyter.widget-view+json": {
       "model_id": "",
       "version_major": 2,
       "version_minor": 0
      },
      "text/plain": [
       "FloatProgress(value=0.0, bar_style='info', description='Progress:', layout=Layout(height='25px', width='50%'),…"
      ]
     },
     "metadata": {},
     "output_type": "display_data"
    }
   ],
   "source": [
    "# instanciate PCA with all the possible components\n",
    "pca = PCA(k= len(cols), inputCol=\"features\")\n",
    "pca.setOutputCol(\"pca_features\")\n",
    "\n",
    "# fit PCA to transformed df\n",
    "pca_model = pca.fit(prepared_df)"
   ]
  },
  {
   "cell_type": "code",
   "execution_count": 24,
   "id": "13e47994-6ef4-4341-bd5a-feb27ad1a606",
   "metadata": {
    "execution": {
     "iopub.execute_input": "2024-08-24T17:50:39.226816Z",
     "iopub.status.busy": "2024-08-24T17:50:39.226651Z",
     "iopub.status.idle": "2024-08-24T17:50:39.282648Z",
     "shell.execute_reply": "2024-08-24T17:50:39.281871Z",
     "shell.execute_reply.started": "2024-08-24T17:50:39.226793Z"
    },
    "tags": []
   },
   "outputs": [
    {
     "data": {
      "application/vnd.jupyter.widget-view+json": {
       "model_id": "c7d7001d632a463fa8867f2c3a86eed2",
       "version_major": 2,
       "version_minor": 0
      },
      "text/plain": [
       "VBox()"
      ]
     },
     "metadata": {},
     "output_type": "display_data"
    },
    {
     "data": {
      "application/vnd.jupyter.widget-view+json": {
       "model_id": "",
       "version_major": 2,
       "version_minor": 0
      },
      "text/plain": [
       "FloatProgress(value=0.0, bar_style='info', description='Progress:', layout=Layout(height='25px', width='50%'),…"
      ]
     },
     "metadata": {},
     "output_type": "display_data"
    }
   ],
   "source": [
    "# pca_model.explainedVariance"
   ]
  },
  {
   "cell_type": "code",
   "execution_count": 25,
   "id": "d4beedf7-9db3-433a-80d5-4fce59101a21",
   "metadata": {
    "execution": {
     "iopub.execute_input": "2024-08-24T17:50:39.284031Z",
     "iopub.status.busy": "2024-08-24T17:50:39.283785Z",
     "iopub.status.idle": "2024-08-24T17:50:39.535555Z",
     "shell.execute_reply": "2024-08-24T17:50:39.534917Z",
     "shell.execute_reply.started": "2024-08-24T17:50:39.283995Z"
    },
    "tags": []
   },
   "outputs": [
    {
     "data": {
      "application/vnd.jupyter.widget-view+json": {
       "model_id": "c139f72c92a8486488b94e66f468fac7",
       "version_major": 2,
       "version_minor": 0
      },
      "text/plain": [
       "VBox()"
      ]
     },
     "metadata": {},
     "output_type": "display_data"
    },
    {
     "data": {
      "application/vnd.jupyter.widget-view+json": {
       "model_id": "",
       "version_major": 2,
       "version_minor": 0
      },
      "text/plain": [
       "FloatProgress(value=0.0, bar_style='info', description='Progress:', layout=Layout(height='25px', width='50%'),…"
      ]
     },
     "metadata": {},
     "output_type": "display_data"
    },
    {
     "name": "stdout",
     "output_type": "stream",
     "text": [
      "0.9999999999999999"
     ]
    }
   ],
   "source": [
    "sum(pca_model.explainedVariance)"
   ]
  },
  {
   "cell_type": "code",
   "execution_count": 26,
   "id": "a8cec5b1-4fff-4a48-abaa-1e4c340dac96",
   "metadata": {
    "execution": {
     "iopub.execute_input": "2024-08-24T17:50:39.536628Z",
     "iopub.status.busy": "2024-08-24T17:50:39.536456Z",
     "iopub.status.idle": "2024-08-24T17:50:41.836399Z",
     "shell.execute_reply": "2024-08-24T17:50:41.835743Z",
     "shell.execute_reply.started": "2024-08-24T17:50:39.536606Z"
    },
    "tags": []
   },
   "outputs": [
    {
     "data": {
      "application/vnd.jupyter.widget-view+json": {
       "model_id": "c03ffd1ff0594cc3967e98341a0f6755",
       "version_major": 2,
       "version_minor": 0
      },
      "text/plain": [
       "VBox()"
      ]
     },
     "metadata": {},
     "output_type": "display_data"
    },
    {
     "data": {
      "application/vnd.jupyter.widget-view+json": {
       "model_id": "",
       "version_major": 2,
       "version_minor": 0
      },
      "text/plain": [
       "FloatProgress(value=0.0, bar_style='info', description='Progress:', layout=Layout(height='25px', width='50%'),…"
      ]
     },
     "metadata": {},
     "output_type": "display_data"
    },
    {
     "name": "stdout",
     "output_type": "stream",
     "text": [
      "DenseMatrix([[-9.31079704e-02,  2.09250347e-03,  9.55949641e-03, ...,\n",
      "               9.84207887e-03, -7.33043030e-03, -3.69444644e-03],\n",
      "             [ 7.04155948e-03, -1.67418068e-02,  2.17070044e-02, ...,\n",
      "              -2.60630432e-03, -1.05679955e-02, -2.02469810e-03],\n",
      "             [ 6.58751450e-03, -3.87996799e-03, -1.35025139e-02, ...,\n",
      "              -5.02816192e-03,  1.91854685e-02,  7.32883571e-03],\n",
      "             ...,\n",
      "             [ 9.17668785e-03,  2.39952683e-02, -1.11231195e-03, ...,\n",
      "               7.97071920e-03, -1.35078877e-02,  2.09561338e-02],\n",
      "             [ 4.15803773e-05, -3.55021706e-03,  3.58232582e-03, ...,\n",
      "              -3.29646972e-03, -1.29269447e-03,  4.78576278e-03],\n",
      "             [-2.63720768e-02, -8.91145260e-04, -2.53345698e-03, ...,\n",
      "               1.99972755e-02, -1.89528895e-02, -2.15414777e-02]])"
     ]
    }
   ],
   "source": [
    "# print principal components matrix, where each column is one principal component.\n",
    "# cf. https://github.com/haipinglu/ScalableML/blob/master/Lab%207%20-%20Scalable%20PCA%20for%20dimensionality%20reduction%20and%20Spark%20data%20types.md\n",
    "print(pca_model.pc)"
   ]
  },
  {
   "cell_type": "code",
   "execution_count": 27,
   "id": "dba3f088-3e01-4fd8-954c-2f721e25627f",
   "metadata": {
    "execution": {
     "iopub.execute_input": "2024-08-24T17:50:41.840057Z",
     "iopub.status.busy": "2024-08-24T17:50:41.839589Z",
     "iopub.status.idle": "2024-08-24T17:50:42.097686Z",
     "shell.execute_reply": "2024-08-24T17:50:42.096835Z",
     "shell.execute_reply.started": "2024-08-24T17:50:41.840018Z"
    },
    "tags": []
   },
   "outputs": [
    {
     "data": {
      "application/vnd.jupyter.widget-view+json": {
       "model_id": "666af61aa73044a0836d7e657fca7e24",
       "version_major": 2,
       "version_minor": 0
      },
      "text/plain": [
       "VBox()"
      ]
     },
     "metadata": {},
     "output_type": "display_data"
    },
    {
     "data": {
      "application/vnd.jupyter.widget-view+json": {
       "model_id": "",
       "version_major": 2,
       "version_minor": 0
      },
      "text/plain": [
       "FloatProgress(value=0.0, bar_style='info', description='Progress:', layout=Layout(height='25px', width='50%'),…"
      ]
     },
     "metadata": {},
     "output_type": "display_data"
    },
    {
     "name": "stdout",
     "output_type": "stream",
     "text": [
      "     component  explained_var   cum_var\n",
      "0          PC1   2.085289e-01  0.208529\n",
      "1          PC2   1.947873e-01  0.403316\n",
      "2          PC3   1.761070e-01  0.579423\n",
      "3          PC4   1.145331e-01  0.693956\n",
      "4          PC5   7.690839e-02  0.770865\n",
      "...        ...            ...       ...\n",
      "1275    PC1276   2.232886e-17  1.000000\n",
      "1276    PC1277   1.617141e-17  1.000000\n",
      "1277    PC1278   1.329430e-17  1.000000\n",
      "1278    PC1279   7.956548e-18  1.000000\n",
      "1279    PC1280   3.380305e-18  1.000000\n",
      "\n",
      "[1280 rows x 3 columns]"
     ]
    }
   ],
   "source": [
    "# explained variance of the PCs\n",
    "df_var = pd.DataFrame(pca_model.explainedVariance, columns=['explained_var'])\n",
    "df_var.insert(0, 'component', value= ['PC'+str(n) for n in range(1,len(cols)+1)])\n",
    "df_var['cum_var'] = df_var['explained_var'].cumsum()\n",
    "df_var"
   ]
  },
  {
   "cell_type": "code",
   "execution_count": 28,
   "id": "aebd29e2-3f67-4cd7-a9ee-4fa08768b2be",
   "metadata": {
    "execution": {
     "iopub.execute_input": "2024-08-24T17:50:42.098910Z",
     "iopub.status.busy": "2024-08-24T17:50:42.098708Z",
     "iopub.status.idle": "2024-08-24T17:50:42.147377Z",
     "shell.execute_reply": "2024-08-24T17:50:42.146639Z",
     "shell.execute_reply.started": "2024-08-24T17:50:42.098885Z"
    },
    "tags": []
   },
   "outputs": [
    {
     "data": {
      "application/vnd.jupyter.widget-view+json": {
       "model_id": "a0c79a7bb4bc41e6ab8d942f76aff7f9",
       "version_major": 2,
       "version_minor": 0
      },
      "text/plain": [
       "VBox()"
      ]
     },
     "metadata": {},
     "output_type": "display_data"
    },
    {
     "data": {
      "application/vnd.jupyter.widget-view+json": {
       "model_id": "",
       "version_major": 2,
       "version_minor": 0
      },
      "text/plain": [
       "FloatProgress(value=0.0, bar_style='info', description='Progress:', layout=Layout(height='25px', width='50%'),…"
      ]
     },
     "metadata": {},
     "output_type": "display_data"
    }
   ],
   "source": [
    "var_tot = df_var['explained_var'].sum()"
   ]
  },
  {
   "cell_type": "code",
   "execution_count": 29,
   "id": "31031b0e-3d7a-45bd-878d-61ff2e20e00c",
   "metadata": {
    "execution": {
     "iopub.execute_input": "2024-08-24T17:50:42.148950Z",
     "iopub.status.busy": "2024-08-24T17:50:42.148708Z",
     "iopub.status.idle": "2024-08-24T17:50:42.201390Z",
     "shell.execute_reply": "2024-08-24T17:50:42.200791Z",
     "shell.execute_reply.started": "2024-08-24T17:50:42.148916Z"
    },
    "tags": []
   },
   "outputs": [
    {
     "data": {
      "application/vnd.jupyter.widget-view+json": {
       "model_id": "3fbeb3010d684ad4bacf329454ec027c",
       "version_major": 2,
       "version_minor": 0
      },
      "text/plain": [
       "VBox()"
      ]
     },
     "metadata": {},
     "output_type": "display_data"
    },
    {
     "data": {
      "application/vnd.jupyter.widget-view+json": {
       "model_id": "",
       "version_major": 2,
       "version_minor": 0
      },
      "text/plain": [
       "FloatProgress(value=0.0, bar_style='info', description='Progress:', layout=Layout(height='25px', width='50%'),…"
      ]
     },
     "metadata": {},
     "output_type": "display_data"
    },
    {
     "name": "stdout",
     "output_type": "stream",
     "text": [
      "Minimum contribution of components: 0.000781"
     ]
    }
   ],
   "source": [
    "cutoff = var_tot/1280\n",
    "print(\"Minimum contribution of components:\", round(cutoff,6))"
   ]
  },
  {
   "cell_type": "code",
   "execution_count": 30,
   "id": "938e472b-608d-4ed1-84c9-d2e767e19463",
   "metadata": {
    "execution": {
     "iopub.execute_input": "2024-08-24T17:50:42.202835Z",
     "iopub.status.busy": "2024-08-24T17:50:42.202590Z",
     "iopub.status.idle": "2024-08-24T17:50:42.257695Z",
     "shell.execute_reply": "2024-08-24T17:50:42.256993Z",
     "shell.execute_reply.started": "2024-08-24T17:50:42.202800Z"
    },
    "tags": []
   },
   "outputs": [
    {
     "data": {
      "application/vnd.jupyter.widget-view+json": {
       "model_id": "c26f7b5c5aa24513aca82dd01e3b6d34",
       "version_major": 2,
       "version_minor": 0
      },
      "text/plain": [
       "VBox()"
      ]
     },
     "metadata": {},
     "output_type": "display_data"
    },
    {
     "data": {
      "application/vnd.jupyter.widget-view+json": {
       "model_id": "",
       "version_major": 2,
       "version_minor": 0
      },
      "text/plain": [
       "FloatProgress(value=0.0, bar_style='info', description='Progress:', layout=Layout(height='25px', width='50%'),…"
      ]
     },
     "metadata": {},
     "output_type": "display_data"
    },
    {
     "name": "stdout",
     "output_type": "stream",
     "text": [
      "Number of components meeting minimum contribution criterion: 36"
     ]
    }
   ],
   "source": [
    "df_var_trim = df_var.loc[df_var['explained_var'] > cutoff]\n",
    "print(\"Number of components meeting minimum contribution criterion:\", df_var_trim.shape[0])"
   ]
  },
  {
   "cell_type": "code",
   "execution_count": 31,
   "id": "224b9a09-beec-4be7-b31b-d72bb4fd03c9",
   "metadata": {
    "execution": {
     "iopub.execute_input": "2024-08-24T17:50:42.258806Z",
     "iopub.status.busy": "2024-08-24T17:50:42.258632Z",
     "iopub.status.idle": "2024-08-24T17:50:43.026571Z",
     "shell.execute_reply": "2024-08-24T17:50:43.025931Z",
     "shell.execute_reply.started": "2024-08-24T17:50:42.258782Z"
    },
    "tags": []
   },
   "outputs": [
    {
     "data": {
      "application/vnd.jupyter.widget-view+json": {
       "model_id": "ce7953fff5d947d5ab9e3e510a3210b5",
       "version_major": 2,
       "version_minor": 0
      },
      "text/plain": [
       "VBox()"
      ]
     },
     "metadata": {},
     "output_type": "display_data"
    },
    {
     "data": {
      "application/vnd.jupyter.widget-view+json": {
       "model_id": "",
       "version_major": 2,
       "version_minor": 0
      },
      "text/plain": [
       "FloatProgress(value=0.0, bar_style='info', description='Progress:', layout=Layout(height='25px', width='50%'),…"
      ]
     },
     "metadata": {},
     "output_type": "display_data"
    },
    {
     "data": {
      "image/png": "[encoded data removed]",
      "text/plain": [
       "<IPython.core.display.Image object>"
      ]
     },
     "metadata": {},
     "output_type": "display_data"
    }
   ],
   "source": [
    "# scree plot - % explained variance\n",
    "\n",
    "# calculate cumulated explained variance of components\n",
    "df_var_trim['cum_var'] = df_var['explained_var'].cumsum()\n",
    "\n",
    "# plot explained variance per component vs. total explained variance\n",
    "fig, ax = plt.subplots(1, 1, figsize=[25, 15])\n",
    "plt.figure(figsize=(20,8))\n",
    "plt.bar(df_var_trim['component'], df_var_trim['explained_var'], color='darkorange')\n",
    "plt.plot(df_var_trim['component'], df_var_trim['cum_var'], color='cornflowerblue', marker='o')\n",
    "plt.text(28, 0.92, \"Cumulative explained variance\", color='cornflowerblue', fontweight='bold', fontsize=12)\n",
    "plt.xlabel(\"Principal Components\", fontweight='bold', fontsize=12)\n",
    "plt.xticks(np.arange(0, df_var_trim.shape[0], 1))\n",
    "plt.ylabel(\"Explained variance\", fontweight='bold', fontsize=12)\n",
    "plt.text(34, 0.82, \"80%\", color='darkslateblue', fontweight='bold', fontsize=12)\n",
    "plt.axhline(y=0.8, color='darkslateblue', linestyle=':')\n",
    "plt.title(\"Scree plot\", fontweight='bold',fontsize=18)\n",
    "plt.grid(axis='both', color='gainsboro')\n",
    "plt.show()\n",
    "%matplot plt"
   ]
  },
  {
   "cell_type": "markdown",
   "id": "abf0c773-d689-4e0b-b19f-994efcd36a9a",
   "metadata": {},
   "source": [
    "## 3.3 - Export results to s3"
   ]
  },
  {
   "cell_type": "code",
   "execution_count": 32,
   "id": "fc8182fe-b16f-4b4d-9c96-8c2b8294ae3b",
   "metadata": {
    "execution": {
     "iopub.execute_input": "2024-08-24T17:50:43.027670Z",
     "iopub.status.busy": "2024-08-24T17:50:43.027489Z",
     "iopub.status.idle": "2024-08-24T17:50:43.283087Z",
     "shell.execute_reply": "2024-08-24T17:50:43.282341Z",
     "shell.execute_reply.started": "2024-08-24T17:50:43.027646Z"
    },
    "tags": []
   },
   "outputs": [
    {
     "data": {
      "application/vnd.jupyter.widget-view+json": {
       "model_id": "2e8646a7bb5d416a870ab6966a63528a",
       "version_major": 2,
       "version_minor": 0
      },
      "text/plain": [
       "VBox()"
      ]
     },
     "metadata": {},
     "output_type": "display_data"
    },
    {
     "data": {
      "application/vnd.jupyter.widget-view+json": {
       "model_id": "",
       "version_major": 2,
       "version_minor": 0
      },
      "text/plain": [
       "FloatProgress(value=0.0, bar_style='info', description='Progress:', layout=Layout(height='25px', width='50%'),…"
      ]
     },
     "metadata": {},
     "output_type": "display_data"
    }
   ],
   "source": [
    "# convert pandas df to Spark df\n",
    "spark_PCA = sqlContext.createDataFrame(df_var_trim)"
   ]
  },
  {
   "cell_type": "code",
   "execution_count": 33,
   "id": "d85f2e55-5a82-40e8-a7dd-a3a643d41e90",
   "metadata": {
    "execution": {
     "iopub.execute_input": "2024-08-24T17:50:43.284177Z",
     "iopub.status.busy": "2024-08-24T17:50:43.284006Z",
     "iopub.status.idle": "2024-08-24T17:50:44.562566Z",
     "shell.execute_reply": "2024-08-24T17:50:44.556580Z",
     "shell.execute_reply.started": "2024-08-24T17:50:43.284154Z"
    },
    "tags": []
   },
   "outputs": [
    {
     "data": {
      "application/vnd.jupyter.widget-view+json": {
       "model_id": "b45209999faf4d35929abf1c0a636973",
       "version_major": 2,
       "version_minor": 0
      },
      "text/plain": [
       "VBox()"
      ]
     },
     "metadata": {},
     "output_type": "display_data"
    },
    {
     "data": {
      "application/vnd.jupyter.widget-view+json": {
       "model_id": "",
       "version_major": 2,
       "version_minor": 0
      },
      "text/plain": [
       "FloatProgress(value=0.0, bar_style='info', description='Progress:', layout=Layout(height='25px', width='50%'),…"
      ]
     },
     "metadata": {},
     "output_type": "display_data"
    }
   ],
   "source": [
    "# export ACP results to parquet file\n",
    "spark_PCA.write.option(\"encoding\", \"utf-8\").mode(\"overwrite\").parquet(PATH_PCA)"
   ]
  },
  {
   "cell_type": "code",
   "execution_count": 34,
   "id": "e54aa61b-5ec4-4222-bb7f-8d197f348df8",
   "metadata": {
    "execution": {
     "iopub.execute_input": "2024-08-24T17:50:44.564760Z",
     "iopub.status.busy": "2024-08-24T17:50:44.564229Z",
     "iopub.status.idle": "2024-08-24T17:50:45.329335Z",
     "shell.execute_reply": "2024-08-24T17:50:45.328587Z",
     "shell.execute_reply.started": "2024-08-24T17:50:44.564718Z"
    },
    "tags": []
   },
   "outputs": [
    {
     "data": {
      "application/vnd.jupyter.widget-view+json": {
       "model_id": "15d7a87f07b345f797fc42c2799a44e8",
       "version_major": 2,
       "version_minor": 0
      },
      "text/plain": [
       "VBox()"
      ]
     },
     "metadata": {},
     "output_type": "display_data"
    },
    {
     "data": {
      "application/vnd.jupyter.widget-view+json": {
       "model_id": "",
       "version_major": 2,
       "version_minor": 0
      },
      "text/plain": [
       "FloatProgress(value=0.0, bar_style='info', description='Progress:', layout=Layout(height='25px', width='50%'),…"
      ]
     },
     "metadata": {},
     "output_type": "display_data"
    },
    {
     "name": "stdout",
     "output_type": "stream",
     "text": [
      "  component  explained_var   cum_var\n",
      "0       PC1       0.208529  0.208529\n",
      "1       PC2       0.194787  0.403316\n",
      "2       PC3       0.176107  0.579423\n",
      "3       PC4       0.114533  0.693956\n",
      "4       PC5       0.076908  0.770865"
     ]
    }
   ],
   "source": [
    "# check export\n",
    "df_PCA = pd.read_parquet(PATH_PCA, engine='pyarrow')\n",
    "df_PCA.head()"
   ]
  },
  {
   "cell_type": "code",
   "execution_count": 37,
   "id": "d9d8de2b-b4e3-443b-ae7f-3b185199996d",
   "metadata": {
    "execution": {
     "iopub.execute_input": "2024-08-24T17:50:45.436136Z",
     "iopub.status.busy": "2024-08-24T17:50:45.435883Z",
     "iopub.status.idle": "2024-08-24T17:50:46.199046Z",
     "shell.execute_reply": "2024-08-24T17:50:46.198365Z",
     "shell.execute_reply.started": "2024-08-24T17:50:45.436100Z"
    },
    "tags": []
   },
   "outputs": [
    {
     "data": {
      "application/vnd.jupyter.widget-view+json": {
       "model_id": "286cbf29938840a1bac6476b42bb5427",
       "version_major": 2,
       "version_minor": 0
      },
      "text/plain": [
       "VBox()"
      ]
     },
     "metadata": {},
     "output_type": "display_data"
    },
    {
     "data": {
      "application/vnd.jupyter.widget-view+json": {
       "model_id": "",
       "version_major": 2,
       "version_minor": 0
      },
      "text/plain": [
       "FloatProgress(value=0.0, bar_style='info', description='Progress:', layout=Layout(height='25px', width='50%'),…"
      ]
     },
     "metadata": {},
     "output_type": "display_data"
    }
   ],
   "source": [
    "# export ACP results to csv file\n",
    "# spark_PCA.write.option(\"encoding\", \"utf-8\").csv(PATH_PCA_CSV, header=True, mode=\"overwrite\")\n",
    "df_var_trim.to_csv(path_or_buf=PATH_PCA_CSV, header=True, index=False, mode='w', encoding='utf-8')"
   ]
  },
  {
   "cell_type": "code",
   "execution_count": 38,
   "id": "58e4fd3c-b2c3-4853-ae78-92e4c9e1ff2a",
   "metadata": {
    "execution": {
     "iopub.execute_input": "2024-08-24T17:50:46.200098Z",
     "iopub.status.busy": "2024-08-24T17:50:46.199919Z",
     "iopub.status.idle": "2024-08-24T17:50:46.462991Z",
     "shell.execute_reply": "2024-08-24T17:50:46.462198Z",
     "shell.execute_reply.started": "2024-08-24T17:50:46.200075Z"
    },
    "tags": []
   },
   "outputs": [
    {
     "data": {
      "application/vnd.jupyter.widget-view+json": {
       "model_id": "6c58ac81e9af4d0bb71adc7fcaea4c23",
       "version_major": 2,
       "version_minor": 0
      },
      "text/plain": [
       "VBox()"
      ]
     },
     "metadata": {},
     "output_type": "display_data"
    },
    {
     "data": {
      "application/vnd.jupyter.widget-view+json": {
       "model_id": "",
       "version_major": 2,
       "version_minor": 0
      },
      "text/plain": [
       "FloatProgress(value=0.0, bar_style='info', description='Progress:', layout=Layout(height='25px', width='50%'),…"
      ]
     },
     "metadata": {},
     "output_type": "display_data"
    },
    {
     "name": "stdout",
     "output_type": "stream",
     "text": [
      "  component  explained_var   cum_var\n",
      "0       PC1       0.208529  0.208529\n",
      "1       PC2       0.194787  0.403316\n",
      "2       PC3       0.176107  0.579423\n",
      "3       PC4       0.114533  0.693956\n",
      "4       PC5       0.076908  0.770865"
     ]
    }
   ],
   "source": [
    "# check export\n",
    "# delim_whitespace=True,\n",
    "df_PCA_csv = pd.read_csv(PATH_PCA_CSV,  delimiter=',')\n",
    "df_PCA_csv.head()"
   ]
  },
  {
   "cell_type": "code",
   "execution_count": 39,
   "id": "287fabb3-28a8-4292-9e10-e462f93a8646",
   "metadata": {
    "execution": {
     "iopub.execute_input": "2024-08-24T17:50:46.463980Z",
     "iopub.status.busy": "2024-08-24T17:50:46.463805Z",
     "iopub.status.idle": "2024-08-24T17:50:46.510742Z",
     "shell.execute_reply": "2024-08-24T17:50:46.510141Z",
     "shell.execute_reply.started": "2024-08-24T17:50:46.463957Z"
    },
    "tags": []
   },
   "outputs": [
    {
     "data": {
      "application/vnd.jupyter.widget-view+json": {
       "model_id": "4112657f76bf4e7993d91d4bc640169c",
       "version_major": 2,
       "version_minor": 0
      },
      "text/plain": [
       "VBox()"
      ]
     },
     "metadata": {},
     "output_type": "display_data"
    },
    {
     "data": {
      "application/vnd.jupyter.widget-view+json": {
       "model_id": "",
       "version_major": 2,
       "version_minor": 0
      },
      "text/plain": [
       "FloatProgress(value=0.0, bar_style='info', description='Progress:', layout=Layout(height='25px', width='50%'),…"
      ]
     },
     "metadata": {},
     "output_type": "display_data"
    }
   ],
   "source": [
    "# end of notebook"
   ]
  },
  {
   "cell_type": "code",
   "execution_count": null,
   "id": "4f79ca62-dd36-4780-946f-382a50e6e049",
   "metadata": {},
   "outputs": [],
   "source": []
  }
 ],
 "metadata": {
  "kernelspec": {
   "display_name": "Python 3.9 (venv39)",
   "language": "python",
   "name": "venv39"
  },
  "language_info": {
   "codemirror_mode": {
    "name": "ipython",
    "version": 3
   },
   "file_extension": ".py",
   "mimetype": "text/x-python",
   "name": "python",
   "nbconvert_exporter": "python",
   "pygments_lexer": "ipython3",
   "version": "3.9.13"
  }
 },
 "nbformat": 4,
 "nbformat_minor": 5
}
